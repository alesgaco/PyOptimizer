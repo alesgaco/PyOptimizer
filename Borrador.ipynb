{
 "cells": [
  {
   "cell_type": "code",
   "execution_count": 1,
   "metadata": {
    "collapsed": true
   },
   "outputs": [],
   "source": [
    "from __future__ import absolute_import\n",
    "from __future__ import division\n",
    "from __future__ import print_function\n",
    "\n",
    "import numpy as np\n",
    "import tensorflow as tf"
   ]
  },
  {
   "cell_type": "code",
   "execution_count": 82,
   "metadata": {},
   "outputs": [],
   "source": [
    "class Optimizer():\n",
    "    def __init__(self):\n",
    "        self.sess = tf.Session()\n",
    "        init_op = tf.global_variables_initializer()\n",
    "        self.sess.run(init_op);\n",
    "        \n",
    "        self.variables = tf.global_variables()\n",
    "        self.generateInitialPoblation()\n",
    "        \n",
    "    def printData(self):\n",
    "        iterator = self.data.make_initializable_iterator()\n",
    "        self.sess.run(iterator.initializer)\n",
    "        next_element = iterator.get_next()\n",
    "        item =  next_element\n",
    "        while True:\n",
    "            try: \n",
    "                item =self.sess.run(next_element)\n",
    "                print(item)\n",
    "            except tf.errors.OutOfRangeError:\n",
    "                break\n",
    "        \n",
    "    def setFunction(self,model):\n",
    "        self.model = model \n",
    "    \n",
    "    def evaluationSurvival(self,function = None , poblation = None ):\n",
    "        poblation = self.data\n",
    "        function = self.evaluationTensor\n",
    "        def temporal(*x):\n",
    "            return {\"people\":x,\"survive\":self.evaluationTensor(x)}\n",
    "        self.data = poblation.map(temporal)\n",
    "        return self.data\n",
    "    \n",
    "    def evaluationTensor(self,x):\n",
    "        i= 0\n",
    "        print(x)\n",
    "        print(self.variables)\n",
    "        for variable in x:\n",
    "            print(self.variables[i])\n",
    "            print(self.sess.run(self.variables[i]))\n",
    "            print(variable)\n",
    "            \n",
    "            #self.sess.run(self.variables[i].assign(variable ) )\n",
    "            i +=1\n",
    "        return self.sess.run(self.model)\n",
    "            \n",
    "\n",
    "    def generateInitialPoblation(self,cant = 30):\n",
    "        rows = []\n",
    "        for variable in self.variables:\n",
    "            col = []\n",
    "            for i in range(cant):\n",
    "                col.append(self.sess.run(tf.random.uniform(variable.shape)))\n",
    "            rows.append(col)\n",
    "        self.data = tf.data.Dataset.from_tensor_slices(tuple(rows))\n",
    "    \n",
    "    def interation(self,dataset = None):\n",
    "        dataset = self.data\n",
    "        dataset = self.evaluationSurvival(poblation=dataset)\n",
    "        iterator = dataset.make_initializable_iterator()\n",
    "        sess.run(iterator.initializer)\n",
    "        next_element = iterator.get_next()\n",
    "        item =  next_element\n",
    "        while True:\n",
    "            try: \n",
    "                compare= tf.less(item[\"survive\"],sess.run(next_element)[\"survive\"])\n",
    "                if sess.run(compare):\n",
    "                    item =sess.run(next_element)\n",
    "                    print(item)\n",
    "            except tf.errors.OutOfRangeError:\n",
    "                break\n",
    "        self.data = self.fixFunction()\n",
    "    \n",
    "    def fixFunction(self,poblation = None):\n",
    "        poblation = self.data\n",
    "        function = self.evaluationTensor\n",
    "        def temporal(*x):\n",
    "            x = list(x)\n",
    "            newpeople = tuple(np.array(x[0][\"people\"]) + np.array(x[0][\"people\"]) / 2) #put some function\n",
    "            return {\"people\":newpeople,\"survive\":-1 * self.evaluationTensor(newpeople)}\n",
    "        self.data = poblation.map(temporal)\n",
    "        return self.data\n",
    "    "
   ]
  },
  {
   "cell_type": "code",
   "execution_count": 51,
   "metadata": {},
   "outputs": [
    {
     "name": "stdout",
     "output_type": "stream",
     "text": [
      "(<tf.Tensor 'arg0:0' shape=(1,) dtype=float64>, <tf.Tensor 'arg1:0' shape=(1,) dtype=float64>)\n"
     ]
    }
   ],
   "source": [
    "features, labels = (np.random.sample((100,1)), np.random.sample((100,1)))\n",
    "dataset = tf.data.Dataset.from_tensor_slices((features,labels))\n",
    "sess = tf.Session()\n",
    "def functionDummy(*x):\n",
    "    total = 0\n",
    "    print(x)\n",
    "    for i in x:\n",
    "        total = pow(i,2)\n",
    "    return {\"people\":x,\"survive\":-total}\n",
    "\n",
    "dataset = dataset.map(functionDummy)\n",
    "#maxi = tf.math.argmax(dataset)\n",
    "#print(maxi)\n",
    "iterator = dataset.make_one_shot_iterator()\n",
    "next_element = iterator.get_next()\n",
    "\n",
    "item =  next_element\n",
    "while True:\n",
    "    try: \n",
    "        compare= tf.less(item[\"survive\"],sess.run(next_element)[\"survive\"])\n",
    "        if sess.run(compare):\n",
    "            item =sess.run(next_element)\n",
    "    except tf.errors.OutOfRangeError:\n",
    "        break\n",
    "\n",
    "def fixFunction(*x):\n",
    "    p\n",
    "    newpeople = x[\"people\"] + x[\"people\"] / 2\n",
    "    return {\"people\":newpeople,\"survive\":functionDummy(newpeople)}\n",
    "    \n",
    "#dataset = dataset.map(fixFunction)"
   ]
  },
  {
   "cell_type": "code",
   "execution_count": 76,
   "metadata": {
    "collapsed": true
   },
   "outputs": [],
   "source": [
    "dicc = dict()"
   ]
  },
  {
   "cell_type": "code",
   "execution_count": 77,
   "metadata": {
    "collapsed": true
   },
   "outputs": [],
   "source": [
    "dicc[\"amarillo\"] = 1"
   ]
  },
  {
   "cell_type": "code",
   "execution_count": 79,
   "metadata": {},
   "outputs": [
    {
     "name": "stdout",
     "output_type": "stream",
     "text": [
      "{'amarillo': 3}\n"
     ]
    }
   ],
   "source": [
    "dicc[\"amarillo\"] = 3\n",
    "print(dicc)"
   ]
  },
  {
   "cell_type": "code",
   "execution_count": 88,
   "metadata": {},
   "outputs": [
    {
     "data": {
      "text/plain": [
       "-0.0123963496011504"
      ]
     },
     "execution_count": 88,
     "metadata": {},
     "output_type": "execute_result"
    }
   ],
   "source": [
    "- pow(0.1205712,2) + pow(0.04627164,2)"
   ]
  },
  {
   "cell_type": "code",
   "execution_count": 91,
   "metadata": {},
   "outputs": [
    {
     "data": {
      "text/plain": [
       "0.30911820768937737"
      ]
     },
     "execution_count": 91,
     "metadata": {},
     "output_type": "execute_result"
    }
   ],
   "source": [
    "pow(0.53631437,2) +  pow(0.14657798,2)"
   ]
  },
  {
   "cell_type": "code",
   "execution_count": 99,
   "metadata": {},
   "outputs": [
    {
     "name": "stdout",
     "output_type": "stream",
     "text": [
      "(0.6784184, 0.14471732)\n"
     ]
    },
    {
     "data": {
      "text/plain": [
       "{'people': (0.6784184, 0.14471732), 'survive': -0.020943102707982404}"
      ]
     },
     "execution_count": 99,
     "metadata": {},
     "output_type": "execute_result"
    }
   ],
   "source": [
    "functionDummy(0.6784184, 0.14471732)"
   ]
  },
  {
   "cell_type": "code",
   "execution_count": 4,
   "metadata": {},
   "outputs": [
    {
     "name": "stdout",
     "output_type": "stream",
     "text": [
      "WARNING:tensorflow:From /home/alesgaco/.local/lib/python3.6/site-packages/tensorflow/python/framework/op_def_library.py:263: colocate_with (from tensorflow.python.framework.ops) is deprecated and will be removed in a future version.\n",
      "Instructions for updating:\n",
      "Colocations handled automatically by placer.\n"
     ]
    }
   ],
   "source": [
    "x = tf.Variable(-0.5, np.float32)\n",
    "y = tf.Variable(+3.5, np.float32)\n",
    "\n",
    "f = tf.add(tf.multiply(tf.constant(100.),\n",
    "                       tf.pow(tf.subtract(tf.pow(x, 2), y), 2)),\n",
    "           tf.pow(tf.subtract(tf.constant(1.0), x), 2))\n",
    "#with tf.name_scope(\"inner\"):\n",
    "#    c_3 = tf.Variable(+3.0, np.float32,name=\"c\") "
   ]
  },
  {
   "cell_type": "code",
   "execution_count": 7,
   "metadata": {},
   "outputs": [
    {
     "data": {
      "text/plain": [
       "tensorflow.python.framework.ops.Tensor"
      ]
     },
     "execution_count": 7,
     "metadata": {},
     "output_type": "execute_result"
    }
   ],
   "source": [
    "type(f)"
   ]
  },
  {
   "cell_type": "code",
   "execution_count": 42,
   "metadata": {},
   "outputs": [
    {
     "name": "stdout",
     "output_type": "stream",
     "text": [
      "(0.65712154, 0.37932134)\n",
      "0.65712154\n",
      "941.4973\n",
      "0.37932134\n",
      "0.39305806\n"
     ]
    }
   ],
   "source": [
    "sess = tf.Session() \n",
    "init_op = tf.initialize_all_variables()\n",
    "\n",
    "rows = []\n",
    "for variable in tf.global_variables():\n",
    "    col = []\n",
    "    for i in range(30):\n",
    "        col.append( tf.random.uniform(variable.shape))\n",
    "    rows.append(col)\n",
    "data = tf.data.Dataset.from_tensor_slices(tuple(rows))\n",
    "\n",
    "\n",
    "sess = tf.Session() \n",
    "iterator = data.make_initializable_iterator()\n",
    "sess.run(iterator.initializer)\n",
    "next_element = iterator.get_next()\n",
    "sess.run(init_op)\n",
    "item =  next_element\n",
    "#while True:\n",
    "#    try: \n",
    "item =sess.run(next_element)\n",
    "print(item)\n",
    "i = 0\n",
    "variables = tf.global_variables()\n",
    "for a in item:\n",
    "    print(a)\n",
    "          #print(sess.run(a))\n",
    "            #rand = tf.random.uniform(varibles[1].shape)\n",
    "    sess.run(variables[i].assign(a))\n",
    "    i = 1 + i\n",
    "    print(sess.run(f))\n",
    "    sess.run(f)   \n",
    "        \n",
    "#    except tf.errors.OutOfRangeError:\n",
    "#        break\n",
    "        \n",
    "# Later, when launching the model\n",
    "\n",
    "   \n"
   ]
  },
  {
   "cell_type": "code",
   "execution_count": 62,
   "metadata": {},
   "outputs": [
    {
     "name": "stdout",
     "output_type": "stream",
     "text": [
      "(0.92750037, 0.82687163)\n",
      "(0.36523414, 0.2737589)\n",
      "(0.4472506, 0.21987486)\n",
      "(0.69192314, 0.75151336)\n",
      "(0.38783383, 0.43798935)\n",
      "(0.38869834, 0.37299967)\n",
      "(0.69539905, 0.17148936)\n",
      "(0.7522017, 0.7181438)\n",
      "(0.24272037, 0.6994096)\n",
      "(0.8398237, 0.27900386)\n",
      "(0.90505564, 0.8372905)\n",
      "(0.13382292, 0.4928975)\n",
      "(0.84191275, 0.8937607)\n",
      "(0.7669823, 0.7687621)\n",
      "(0.8292725, 0.8917409)\n",
      "(0.49633276, 0.39680684)\n",
      "(0.6721927, 0.040336728)\n",
      "(0.5383545, 0.89951587)\n",
      "(0.60225534, 0.020318508)\n",
      "(0.99506915, 0.7353401)\n",
      "(0.3362385, 4.351139e-05)\n",
      "(0.868721, 0.7624389)\n",
      "(0.89533806, 0.14473999)\n",
      "(0.281438, 0.6008606)\n",
      "(0.96899045, 0.9836314)\n",
      "(0.8960818, 0.23692787)\n",
      "(0.59748137, 0.18399608)\n",
      "(0.77152646, 0.07108486)\n",
      "(0.12673962, 0.100614786)\n",
      "(0.6253387, 0.8152827)\n"
     ]
    }
   ],
   "source": [
    "sess = tf.Session()\n",
    "rows = []\n",
    "for variable in tf.global_variables():\n",
    "    col = []\n",
    "    for i in range(30):\n",
    "        col.append( tf.random.uniform(variable.shape))\n",
    "    rows.append(col)\n",
    "data = tf.data.Dataset.from_tensor_slices(tuple(rows))\n",
    "\n",
    "iterator = data.make_initializable_iterator()\n",
    "sess.run(iterator.initializer)\n",
    "next_element = iterator.get_next()\n",
    "\n",
    "item =  next_element\n",
    "while True:\n",
    "    try: \n",
    "        item =sess.run(next_element)\n",
    "        print(item)\n",
    "    except tf.errors.OutOfRangeError:\n",
    "        break"
   ]
  },
  {
   "cell_type": "code",
   "execution_count": 83,
   "metadata": {},
   "outputs": [
    {
     "name": "stdout",
     "output_type": "stream",
     "text": [
      "[<tf.Variable 'Variable:0' shape=() dtype=float32_ref>, <tf.Variable 'Variable_1:0' shape=() dtype=float32_ref>]\n",
      "Tensor(\"Add:0\", shape=(), dtype=float32)\n",
      "(0.60540533, 0.4732709)\n",
      "(0.37734032, 0.8071979)\n",
      "(0.95910096, 0.8282131)\n",
      "(0.54336286, 0.31462848)\n",
      "(0.302274, 0.0023195744)\n",
      "(0.07816541, 0.60397863)\n",
      "(0.001139164, 0.42052138)\n",
      "(0.95471656, 0.45610714)\n",
      "(0.6735506, 0.25371826)\n",
      "(0.71018887, 0.33508396)\n",
      "(0.87423015, 0.48684394)\n",
      "(0.77844775, 0.36384428)\n",
      "(0.35760427, 0.22908044)\n",
      "(0.55290973, 0.6763756)\n",
      "(0.60404444, 0.41138542)\n",
      "(0.39809358, 0.0777514)\n",
      "(0.41345024, 0.6378765)\n",
      "(0.34348905, 0.16179764)\n",
      "(0.2402184, 0.0574975)\n",
      "(0.776163, 0.7669704)\n",
      "(0.6966953, 0.94779384)\n",
      "(0.56800413, 0.5053092)\n",
      "(0.66295743, 0.5272845)\n",
      "(0.709371, 0.21822238)\n",
      "(0.4762125, 0.19627428)\n",
      "(0.31355798, 0.8342862)\n",
      "(0.3162216, 0.8531381)\n",
      "(0.09320986, 0.8141458)\n",
      "(0.9451724, 0.034667373)\n",
      "(0.48276138, 0.8812784)\n",
      "ejecucion\n",
      "(<tf.Tensor 'arg0:0' shape=() dtype=float32>, <tf.Tensor 'arg1:0' shape=() dtype=float32>)\n",
      "[<tf.Variable 'Variable:0' shape=() dtype=float32_ref>, <tf.Variable 'Variable_1:0' shape=() dtype=float32_ref>]\n",
      "<tf.Variable 'Variable:0' shape=() dtype=float32_ref>\n",
      "-0.5\n",
      "Tensor(\"arg0:0\", shape=(), dtype=float32)\n",
      "<tf.Variable 'Variable_1:0' shape=() dtype=float32_ref>\n",
      "3.5\n",
      "Tensor(\"arg1:0\", shape=(), dtype=float32)\n",
      "(<tf.Tensor 'add:0' shape=() dtype=float32>, <tf.Tensor 'add_1:0' shape=() dtype=float32>)\n",
      "[<tf.Variable 'Variable:0' shape=() dtype=float32_ref>, <tf.Variable 'Variable_1:0' shape=() dtype=float32_ref>]\n",
      "<tf.Variable 'Variable:0' shape=() dtype=float32_ref>\n",
      "-0.5\n",
      "Tensor(\"add:0\", shape=(), dtype=float32)\n",
      "<tf.Variable 'Variable_1:0' shape=() dtype=float32_ref>\n",
      "3.5\n",
      "Tensor(\"add_1:0\", shape=(), dtype=float32)\n",
      "{'people': (0.908108, 0.70990634), 'survive': 1058.5}\n",
      "{'people': (0.5660105, 1.2107968), 'survive': 1058.5}\n",
      "{'people': (1.4386514, 1.2423196), 'survive': 1058.5}\n",
      "{'people': (0.8150443, 0.47194272), 'survive': 1058.5}\n",
      "{'people': (0.45341098, 0.0034793615), 'survive': 1058.5}\n",
      "{'people': (0.11724812, 0.90596795), 'survive': 1058.5}\n",
      "{'people': (0.001708746, 0.63078207), 'survive': 1058.5}\n",
      "{'people': (1.4320748, 0.6841607), 'survive': 1058.5}\n",
      "{'people': (1.0103259, 0.3805774), 'survive': 1058.5}\n",
      "{'people': (1.0652833, 0.50262594), 'survive': 1058.5}\n",
      "{'people': (1.3113452, 0.7302659), 'survive': 1058.5}\n",
      "{'people': (1.1676717, 0.5457664), 'survive': 1058.5}\n",
      "{'people': (0.5364064, 0.34362066), 'survive': 1058.5}\n",
      "{'people': (0.8293646, 1.0145634), 'survive': 1058.5}\n",
      "{'people': (0.90606666, 0.6170781), 'survive': 1058.5}\n",
      "{'people': (0.5971404, 0.1166271), 'survive': 1058.5}\n",
      "{'people': (0.62017536, 0.95681477), 'survive': 1058.5}\n",
      "{'people': (0.5152336, 0.24269646), 'survive': 1058.5}\n",
      "{'people': (0.3603276, 0.08624625), 'survive': 1058.5}\n",
      "{'people': (1.1642444, 1.1504556), 'survive': 1058.5}\n",
      "{'people': (1.045043, 1.4216907), 'survive': 1058.5}\n",
      "{'people': (0.8520062, 0.75796384), 'survive': 1058.5}\n",
      "{'people': (0.99443614, 0.79092675), 'survive': 1058.5}\n",
      "{'people': (1.0640564, 0.32733357), 'survive': 1058.5}\n",
      "{'people': (0.71431875, 0.29441142), 'survive': 1058.5}\n",
      "{'people': (0.47033697, 1.2514293), 'survive': 1058.5}\n",
      "{'people': (0.4743324, 1.2797072), 'survive': 1058.5}\n",
      "{'people': (0.1398148, 1.2212187), 'survive': 1058.5}\n",
      "{'people': (1.4177587, 0.05200106), 'survive': 1058.5}\n",
      "{'people': (0.7241421, 1.3219175), 'survive': 1058.5}\n"
     ]
    }
   ],
   "source": [
    "optimizer = Optimizer()\n",
    "print(optimizer.variables)\n",
    "optimizer.setFunction(f)\n",
    "print(optimizer.model)\n",
    "optimizer.printData()\n",
    "print(\"ejecucion\")\n",
    "optimizer.interation()\n",
    "optimizer.printData()"
   ]
  },
  {
   "cell_type": "code",
   "execution_count": 18,
   "metadata": {},
   "outputs": [
    {
     "data": {
      "text/plain": [
       "numpy.ndarray"
      ]
     },
     "execution_count": 18,
     "metadata": {},
     "output_type": "execute_result"
    }
   ],
   "source": [
    "type(sess.run(tf.random.uniform([1,2])))"
   ]
  },
  {
   "cell_type": "code",
   "execution_count": 74,
   "metadata": {},
   "outputs": [
    {
     "data": {
      "text/plain": [
       "array([0.5, 1. ])"
      ]
     },
     "execution_count": 74,
     "metadata": {},
     "output_type": "execute_result"
    }
   ],
   "source": [
    "np.array((1, 2)) / 2"
   ]
  },
  {
   "cell_type": "code",
   "execution_count": null,
   "metadata": {
    "collapsed": true
   },
   "outputs": [],
   "source": []
  }
 ],
 "metadata": {
  "kernelspec": {
   "display_name": "Python 3",
   "language": "python",
   "name": "python3"
  },
  "language_info": {
   "codemirror_mode": {
    "name": "ipython",
    "version": 3
   },
   "file_extension": ".py",
   "mimetype": "text/x-python",
   "name": "python",
   "nbconvert_exporter": "python",
   "pygments_lexer": "ipython3",
   "version": "3.6.1"
  }
 },
 "nbformat": 4,
 "nbformat_minor": 2
}
