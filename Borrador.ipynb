{
 "cells": [
  {
   "cell_type": "code",
   "execution_count": 1,
   "metadata": {
    "collapsed": true
   },
   "outputs": [],
   "source": [
    "from __future__ import absolute_import\n",
    "from __future__ import division\n",
    "from __future__ import print_function\n",
    "\n",
    "import numpy as np\n",
    "import tensorflow as tf"
   ]
  },
  {
   "cell_type": "code",
   "execution_count": 82,
   "metadata": {
    "collapsed": true
   },
   "outputs": [],
   "source": [
    "class Optimizer():\n",
    "    def __init__(self):\n",
    "        self.sess = tf.Session()\n",
    "        init_op = tf.global_variables_initializer()\n",
    "        self.sess.run(init_op);\n",
    "        \n",
    "        self.variables = tf.global_variables()\n",
    "        self.generateInitialPoblation()\n",
    "        \n",
    "    def printData(self):\n",
    "        iterator = self.data.make_initializable_iterator()\n",
    "        self.sess.run(iterator.initializer)\n",
    "        next_element = iterator.get_next()\n",
    "        item =  next_element\n",
    "        while True:\n",
    "            try: \n",
    "                item =self.sess.run(next_element)\n",
    "                print(item)\n",
    "            except tf.errors.OutOfRangeError:\n",
    "                break\n",
    "        \n",
    "    def setFunction(self,model):\n",
    "        self.model = model \n",
    "    \n",
    "    def evaluationSurvival(self,function = None , poblation = None ):\n",
    "        poblation = self.data\n",
    "        function = self.evaluationTensor\n",
    "        def temporal(*x):\n",
    "            return {\"people\":x,\"survive\":self.evaluationTensor(x)}\n",
    "        self.data = poblation.map(temporal)\n",
    "        return self.data\n",
    "    \n",
    "    def evaluationTensor(self,x):\n",
    "        i= 0\n",
    "        print(x)\n",
    "        print(self.variables)\n",
    "        for variable in x:\n",
    "            print(self.variables[i])\n",
    "            print(self.sess.run(self.variables[i]))\n",
    "            print(variable)\n",
    "            \n",
    "            #self.sess.run(self.variables[i].assign(variable ) )\n",
    "            i +=1\n",
    "        return self.sess.run(self.model)\n",
    "            \n",
    "\n",
    "    def generateInitialPoblation(self,cant = 30):\n",
    "        rows = []\n",
    "        for variable in self.variables:\n",
    "            col = []\n",
    "            for i in range(cant):\n",
    "                col.append(self.sess.run(tf.random.uniform(variable.shape)))\n",
    "            rows.append(col)\n",
    "        self.data = tf.data.Dataset.from_tensor_slices(tuple(rows))\n",
    "    \n",
    "    def interation(self,dataset = None):\n",
    "        dataset = self.data\n",
    "        dataset = self.evaluationSurvival(poblation=dataset)\n",
    "        iterator = dataset.make_initializable_iterator()\n",
    "        sess.run(iterator.initializer)\n",
    "        next_element = iterator.get_next()\n",
    "        item =  next_element\n",
    "        while True:\n",
    "            try: \n",
    "                compare= tf.less(item[\"survive\"],sess.run(next_element)[\"survive\"])\n",
    "                if sess.run(compare):\n",
    "                    item =sess.run(next_element)\n",
    "                    print(item)\n",
    "            except tf.errors.OutOfRangeError:\n",
    "                break\n",
    "        self.data = self.fixFunction()\n",
    "    \n",
    "    def fixFunction(self,poblation = None):\n",
    "        poblation = self.data\n",
    "        function = self.evaluationTensor\n",
    "        def temporal(*x):\n",
    "            x = list(x)\n",
    "            newpeople = tuple(np.array(x[0][\"people\"]) + np.array(x[0][\"people\"]) / 2) #put some function\n",
    "            return {\"people\":newpeople,\"survive\":-1 * self.evaluationTensor(newpeople)}\n",
    "        self.data = poblation.map(temporal)\n",
    "        return self.data\n",
    "    "
   ]
  },
  {
   "cell_type": "code",
   "execution_count": 51,
   "metadata": {},
   "outputs": [
    {
     "name": "stdout",
     "output_type": "stream",
     "text": [
      "(<tf.Tensor 'arg0:0' shape=(1,) dtype=float64>, <tf.Tensor 'arg1:0' shape=(1,) dtype=float64>)\n"
     ]
    }
   ],
   "source": [
    "features, labels = (np.random.sample((100,1)), np.random.sample((100,1)))\n",
    "dataset = tf.data.Dataset.from_tensor_slices((features,labels))\n",
    "sess = tf.Session()\n",
    "def functionDummy(*x):\n",
    "    total = 0\n",
    "    print(x)\n",
    "    for i in x:\n",
    "        total = pow(i,2)\n",
    "    return {\"people\":x,\"survive\":-total}\n",
    "\n",
    "dataset = dataset.map(functionDummy)\n",
    "#maxi = tf.math.argmax(dataset)\n",
    "#print(maxi)\n",
    "iterator = dataset.make_one_shot_iterator()\n",
    "next_element = iterator.get_next()\n",
    "\n",
    "item =  next_element\n",
    "while True:\n",
    "    try: \n",
    "        compare= tf.less(item[\"survive\"],sess.run(next_element)[\"survive\"])\n",
    "        if sess.run(compare):\n",
    "            item =sess.run(next_element)\n",
    "    except tf.errors.OutOfRangeError:\n",
    "        break\n",
    "\n",
    "def fixFunction(*x):\n",
    "    p\n",
    "    newpeople = x[\"people\"] + x[\"people\"] / 2\n",
    "    return {\"people\":newpeople,\"survive\":functionDummy(newpeople)}\n",
    "    \n",
    "#dataset = dataset.map(fixFunction)"
   ]
  },
  {
   "cell_type": "code",
   "execution_count": 76,
   "metadata": {
    "collapsed": true
   },
   "outputs": [],
   "source": [
    "dicc = dict()"
   ]
  },
  {
   "cell_type": "code",
   "execution_count": 77,
   "metadata": {
    "collapsed": true
   },
   "outputs": [],
   "source": [
    "dicc[\"amarillo\"] = 1"
   ]
  },
  {
   "cell_type": "code",
   "execution_count": 79,
   "metadata": {},
   "outputs": [
    {
     "name": "stdout",
     "output_type": "stream",
     "text": [
      "{'amarillo': 3}\n"
     ]
    }
   ],
   "source": [
    "dicc[\"amarillo\"] = 3\n",
    "print(dicc)"
   ]
  },
  {
   "cell_type": "code",
   "execution_count": 88,
   "metadata": {},
   "outputs": [
    {
     "data": {
      "text/plain": [
       "-0.0123963496011504"
      ]
     },
     "execution_count": 88,
     "metadata": {},
     "output_type": "execute_result"
    }
   ],
   "source": [
    "- pow(0.1205712,2) + pow(0.04627164,2)"
   ]
  },
  {
   "cell_type": "code",
   "execution_count": 91,
   "metadata": {},
   "outputs": [
    {
     "data": {
      "text/plain": [
       "0.30911820768937737"
      ]
     },
     "execution_count": 91,
     "metadata": {},
     "output_type": "execute_result"
    }
   ],
   "source": [
    "pow(0.53631437,2) +  pow(0.14657798,2)"
   ]
  },
  {
   "cell_type": "code",
   "execution_count": 99,
   "metadata": {},
   "outputs": [
    {
     "name": "stdout",
     "output_type": "stream",
     "text": [
      "(0.6784184, 0.14471732)\n"
     ]
    },
    {
     "data": {
      "text/plain": [
       "{'people': (0.6784184, 0.14471732), 'survive': -0.020943102707982404}"
      ]
     },
     "execution_count": 99,
     "metadata": {},
     "output_type": "execute_result"
    }
   ],
   "source": [
    "functionDummy(0.6784184, 0.14471732)"
   ]
  },
  {
   "cell_type": "code",
   "execution_count": 4,
   "metadata": {},
   "outputs": [
    {
     "name": "stdout",
     "output_type": "stream",
     "text": [
      "WARNING:tensorflow:From /home/alesgaco/.local/lib/python3.6/site-packages/tensorflow/python/framework/op_def_library.py:263: colocate_with (from tensorflow.python.framework.ops) is deprecated and will be removed in a future version.\n",
      "Instructions for updating:\n",
      "Colocations handled automatically by placer.\n"
     ]
    }
   ],
   "source": [
    "x = tf.Variable(-0.5, np.float32)\n",
    "y = tf.Variable(+3.5, np.float32)\n",
    "\n",
    "f = tf.add(tf.multiply(tf.constant(100.),\n",
    "                       tf.pow(tf.subtract(tf.pow(x, 2), y), 2)),\n",
    "           tf.pow(tf.subtract(tf.constant(1.0), x), 2))\n",
    "#with tf.name_scope(\"inner\"):\n",
    "#    c_3 = tf.Variable(+3.0, np.float32,name=\"c\") "
   ]
  },
  {
   "cell_type": "code",
   "execution_count": 7,
   "metadata": {},
   "outputs": [
    {
     "data": {
      "text/plain": [
       "tensorflow.python.framework.ops.Tensor"
      ]
     },
     "execution_count": 7,
     "metadata": {},
     "output_type": "execute_result"
    }
   ],
   "source": [
    "type(f)"
   ]
  },
  {
   "cell_type": "code",
   "execution_count": 42,
   "metadata": {},
   "outputs": [
    {
     "name": "stdout",
     "output_type": "stream",
     "text": [
      "(0.65712154, 0.37932134)\n",
      "0.65712154\n",
      "941.4973\n",
      "0.37932134\n",
      "0.39305806\n"
     ]
    }
   ],
   "source": [
    "sess = tf.Session() \n",
    "init_op = tf.initialize_all_variables()\n",
    "\n",
    "rows = []\n",
    "for variable in tf.global_variables():\n",
    "    col = []\n",
    "    for i in range(30):\n",
    "        col.append( tf.random.uniform(variable.shape))\n",
    "    rows.append(col)\n",
    "data = tf.data.Dataset.from_tensor_slices(tuple(rows))\n",
    "\n",
    "\n",
    "sess = tf.Session() \n",
    "iterator = data.make_initializable_iterator()\n",
    "sess.run(iterator.initializer)\n",
    "next_element = iterator.get_next()\n",
    "sess.run(init_op)\n",
    "item =  next_element\n",
    "#while True:\n",
    "#    try: \n",
    "item =sess.run(next_element)\n",
    "print(item)\n",
    "i = 0\n",
    "variables = tf.global_variables()\n",
    "for a in item:\n",
    "    print(a)\n",
    "          #print(sess.run(a))\n",
    "            #rand = tf.random.uniform(varibles[1].shape)\n",
    "    sess.run(variables[i].assign(a))\n",
    "    i = 1 + i\n",
    "    print(sess.run(f))\n",
    "    sess.run(f)   \n",
    "        \n",
    "#    except tf.errors.OutOfRangeError:\n",
    "#        break\n",
    "        \n",
    "# Later, when launching the model\n",
    "\n",
    "   \n"
   ]
  },
  {
   "cell_type": "code",
   "execution_count": 62,
   "metadata": {},
   "outputs": [
    {
     "name": "stdout",
     "output_type": "stream",
     "text": [
      "(0.92750037, 0.82687163)\n",
      "(0.36523414, 0.2737589)\n",
      "(0.4472506, 0.21987486)\n",
      "(0.69192314, 0.75151336)\n",
      "(0.38783383, 0.43798935)\n",
      "(0.38869834, 0.37299967)\n",
      "(0.69539905, 0.17148936)\n",
      "(0.7522017, 0.7181438)\n",
      "(0.24272037, 0.6994096)\n",
      "(0.8398237, 0.27900386)\n",
      "(0.90505564, 0.8372905)\n",
      "(0.13382292, 0.4928975)\n",
      "(0.84191275, 0.8937607)\n",
      "(0.7669823, 0.7687621)\n",
      "(0.8292725, 0.8917409)\n",
      "(0.49633276, 0.39680684)\n",
      "(0.6721927, 0.040336728)\n",
      "(0.5383545, 0.89951587)\n",
      "(0.60225534, 0.020318508)\n",
      "(0.99506915, 0.7353401)\n",
      "(0.3362385, 4.351139e-05)\n",
      "(0.868721, 0.7624389)\n",
      "(0.89533806, 0.14473999)\n",
      "(0.281438, 0.6008606)\n",
      "(0.96899045, 0.9836314)\n",
      "(0.8960818, 0.23692787)\n",
      "(0.59748137, 0.18399608)\n",
      "(0.77152646, 0.07108486)\n",
      "(0.12673962, 0.100614786)\n",
      "(0.6253387, 0.8152827)\n"
     ]
    }
   ],
   "source": [
    "sess = tf.Session()\n",
    "rows = []\n",
    "for variable in tf.global_variables():\n",
    "    col = []\n",
    "    for i in range(30):\n",
    "        col.append( tf.random.uniform(variable.shape))\n",
    "    rows.append(col)\n",
    "data = tf.data.Dataset.from_tensor_slices(tuple(rows))\n",
    "\n",
    "iterator = data.make_initializable_iterator()\n",
    "sess.run(iterator.initializer)\n",
    "next_element = iterator.get_next()\n",
    "\n",
    "item =  next_element\n",
    "while True:\n",
    "    try: \n",
    "        item =sess.run(next_element)\n",
    "        print(item)\n",
    "    except tf.errors.OutOfRangeError:\n",
    "        break"
   ]
  },
  {
   "cell_type": "code",
   "execution_count": 83,
   "metadata": {},
   "outputs": [
    {
     "name": "stdout",
     "output_type": "stream",
     "text": [
      "[<tf.Variable 'Variable:0' shape=() dtype=float32_ref>, <tf.Variable 'Variable_1:0' shape=() dtype=float32_ref>]\n",
      "Tensor(\"Add:0\", shape=(), dtype=float32)\n",
      "(0.60540533, 0.4732709)\n",
      "(0.37734032, 0.8071979)\n",
      "(0.95910096, 0.8282131)\n",
      "(0.54336286, 0.31462848)\n",
      "(0.302274, 0.0023195744)\n",
      "(0.07816541, 0.60397863)\n",
      "(0.001139164, 0.42052138)\n",
      "(0.95471656, 0.45610714)\n",
      "(0.6735506, 0.25371826)\n",
      "(0.71018887, 0.33508396)\n",
      "(0.87423015, 0.48684394)\n",
      "(0.77844775, 0.36384428)\n",
      "(0.35760427, 0.22908044)\n",
      "(0.55290973, 0.6763756)\n",
      "(0.60404444, 0.41138542)\n",
      "(0.39809358, 0.0777514)\n",
      "(0.41345024, 0.6378765)\n",
      "(0.34348905, 0.16179764)\n",
      "(0.2402184, 0.0574975)\n",
      "(0.776163, 0.7669704)\n",
      "(0.6966953, 0.94779384)\n",
      "(0.56800413, 0.5053092)\n",
      "(0.66295743, 0.5272845)\n",
      "(0.709371, 0.21822238)\n",
      "(0.4762125, 0.19627428)\n",
      "(0.31355798, 0.8342862)\n",
      "(0.3162216, 0.8531381)\n",
      "(0.09320986, 0.8141458)\n",
      "(0.9451724, 0.034667373)\n",
      "(0.48276138, 0.8812784)\n",
      "ejecucion\n",
      "(<tf.Tensor 'arg0:0' shape=() dtype=float32>, <tf.Tensor 'arg1:0' shape=() dtype=float32>)\n",
      "[<tf.Variable 'Variable:0' shape=() dtype=float32_ref>, <tf.Variable 'Variable_1:0' shape=() dtype=float32_ref>]\n",
      "<tf.Variable 'Variable:0' shape=() dtype=float32_ref>\n",
      "-0.5\n",
      "Tensor(\"arg0:0\", shape=(), dtype=float32)\n",
      "<tf.Variable 'Variable_1:0' shape=() dtype=float32_ref>\n",
      "3.5\n",
      "Tensor(\"arg1:0\", shape=(), dtype=float32)\n",
      "(<tf.Tensor 'add:0' shape=() dtype=float32>, <tf.Tensor 'add_1:0' shape=() dtype=float32>)\n",
      "[<tf.Variable 'Variable:0' shape=() dtype=float32_ref>, <tf.Variable 'Variable_1:0' shape=() dtype=float32_ref>]\n",
      "<tf.Variable 'Variable:0' shape=() dtype=float32_ref>\n",
      "-0.5\n",
      "Tensor(\"add:0\", shape=(), dtype=float32)\n",
      "<tf.Variable 'Variable_1:0' shape=() dtype=float32_ref>\n",
      "3.5\n",
      "Tensor(\"add_1:0\", shape=(), dtype=float32)\n",
      "{'people': (0.908108, 0.70990634), 'survive': 1058.5}\n",
      "{'people': (0.5660105, 1.2107968), 'survive': 1058.5}\n",
      "{'people': (1.4386514, 1.2423196), 'survive': 1058.5}\n",
      "{'people': (0.8150443, 0.47194272), 'survive': 1058.5}\n",
      "{'people': (0.45341098, 0.0034793615), 'survive': 1058.5}\n",
      "{'people': (0.11724812, 0.90596795), 'survive': 1058.5}\n",
      "{'people': (0.001708746, 0.63078207), 'survive': 1058.5}\n",
      "{'people': (1.4320748, 0.6841607), 'survive': 1058.5}\n",
      "{'people': (1.0103259, 0.3805774), 'survive': 1058.5}\n",
      "{'people': (1.0652833, 0.50262594), 'survive': 1058.5}\n",
      "{'people': (1.3113452, 0.7302659), 'survive': 1058.5}\n",
      "{'people': (1.1676717, 0.5457664), 'survive': 1058.5}\n",
      "{'people': (0.5364064, 0.34362066), 'survive': 1058.5}\n",
      "{'people': (0.8293646, 1.0145634), 'survive': 1058.5}\n",
      "{'people': (0.90606666, 0.6170781), 'survive': 1058.5}\n",
      "{'people': (0.5971404, 0.1166271), 'survive': 1058.5}\n",
      "{'people': (0.62017536, 0.95681477), 'survive': 1058.5}\n",
      "{'people': (0.5152336, 0.24269646), 'survive': 1058.5}\n",
      "{'people': (0.3603276, 0.08624625), 'survive': 1058.5}\n",
      "{'people': (1.1642444, 1.1504556), 'survive': 1058.5}\n",
      "{'people': (1.045043, 1.4216907), 'survive': 1058.5}\n",
      "{'people': (0.8520062, 0.75796384), 'survive': 1058.5}\n",
      "{'people': (0.99443614, 0.79092675), 'survive': 1058.5}\n",
      "{'people': (1.0640564, 0.32733357), 'survive': 1058.5}\n",
      "{'people': (0.71431875, 0.29441142), 'survive': 1058.5}\n",
      "{'people': (0.47033697, 1.2514293), 'survive': 1058.5}\n",
      "{'people': (0.4743324, 1.2797072), 'survive': 1058.5}\n",
      "{'people': (0.1398148, 1.2212187), 'survive': 1058.5}\n",
      "{'people': (1.4177587, 0.05200106), 'survive': 1058.5}\n",
      "{'people': (0.7241421, 1.3219175), 'survive': 1058.5}\n"
     ]
    }
   ],
   "source": [
    "optimizer = Optimizer()\n",
    "print(optimizer.variables)\n",
    "optimizer.setFunction(f)\n",
    "print(optimizer.model)\n",
    "optimizer.printData()\n",
    "print(\"ejecucion\")\n",
    "optimizer.interation()\n",
    "optimizer.printData()"
   ]
  },
  {
   "cell_type": "code",
   "execution_count": 18,
   "metadata": {},
   "outputs": [
    {
     "data": {
      "text/plain": [
       "numpy.ndarray"
      ]
     },
     "execution_count": 18,
     "metadata": {},
     "output_type": "execute_result"
    }
   ],
   "source": [
    "type(sess.run(tf.random.uniform([1,2])))"
   ]
  },
  {
   "cell_type": "code",
   "execution_count": 74,
   "metadata": {},
   "outputs": [
    {
     "data": {
      "text/plain": [
       "array([0.5, 1. ])"
      ]
     },
     "execution_count": 74,
     "metadata": {},
     "output_type": "execute_result"
    }
   ],
   "source": [
    "np.array((1, 2)) / 2"
   ]
  },
  {
   "cell_type": "code",
   "execution_count": 2,
   "metadata": {},
   "outputs": [
    {
     "name": "stdout",
     "output_type": "stream",
     "text": [
      "WARNING:tensorflow:From /home/alesgaco/.local/lib/python3.6/site-packages/tensorflow/python/framework/op_def_library.py:263: colocate_with (from tensorflow.python.framework.ops) is deprecated and will be removed in a future version.\n",
      "Instructions for updating:\n",
      "Colocations handled automatically by placer.\n"
     ]
    }
   ],
   "source": [
    "x = tf.Variable(-20, np.float32)\n",
    "y = tf.Variable(-30, np.float32)\n",
    "f = tf.pow(tf.add(x,y), 2)\n"
   ]
  },
  {
   "cell_type": "code",
   "execution_count": 25,
   "metadata": {},
   "outputs": [
    {
     "name": "stdout",
     "output_type": "stream",
     "text": [
      "probablidad1.0\n",
      "<class 'tensorflow.python.framework.ops.Tensor'>\n",
      "-21 -30\n"
     ]
    }
   ],
   "source": [
    "T = 1000\n",
    "with tf.Session() as sess:\n",
    "    init_op = tf.global_variables_initializer()\n",
    "    sess.run(init_op);\n",
    "    #T = tf.Variable(T0,trainable=False)\n",
    "    f_old = f.eval()\n",
    "    x_old = x.eval()\n",
    "    y_old = y.eval()\n",
    "    \n",
    "    #w= tf.assign(f,2)\n",
    "    x_update = x.assign(x.eval() - 1)\n",
    "    y_update = y.assign(y.eval() )\n",
    "    #x_reupdate = x.assign(x.eval() - 1)\n",
    "    #ejecutar session\n",
    "    with tf.control_dependencies([x_update,y_update]):\n",
    "    #print(sess.run([ y_update, x_update]))\n",
    "        x_update_err = x_update\n",
    "        y_update_err = y_update\n",
    "        delta = f.eval() - f_old\n",
    "        if delta > 0 :\n",
    "            print(\"delta\")\n",
    "            next\n",
    "        elif pow(np.e, -delta/ T) >= np.random.uniform():\n",
    "            print(\"probablidad\" + str(pow(np.e, -delta/ T)))\n",
    "            next\n",
    "        else:\n",
    "            x_update_err = x.assign(x_old)\n",
    "            y_update_err = y.assign(y_old)\n",
    "    #print(type(x_update_err))\n",
    "    sess.run([y_update_err, x_update_err])\n",
    "    \n",
    "    print(x.eval(), y.eval())"
   ]
  },
  {
   "cell_type": "code",
   "execution_count": 4,
   "metadata": {},
   "outputs": [
    {
     "name": "stdout",
     "output_type": "stream",
     "text": [
      "probablidad1.0\n",
      "[-20, -30]\n"
     ]
    },
    {
     "ename": "TypeError",
     "evalue": "Fetch argument <__main__.OptimizadorN object at 0x7fdc040e2518> has invalid type <class '__main__.OptimizadorN'>, must be a string or Tensor. (Can not convert a OptimizadorN into a Tensor or Operation.)",
     "output_type": "error",
     "traceback": [
      "\u001b[0;31m---------------------------------------------------------------------------\u001b[0m",
      "\u001b[0;31mTypeError\u001b[0m                                 Traceback (most recent call last)",
      "\u001b[0;32m/home/alesgaco/.local/lib/python3.6/site-packages/tensorflow/python/client/session.py\u001b[0m in \u001b[0;36m__init__\u001b[0;34m(self, fetches, contraction_fn)\u001b[0m\n\u001b[1;32m    299\u001b[0m         self._unique_fetches.append(ops.get_default_graph().as_graph_element(\n\u001b[0;32m--> 300\u001b[0;31m             fetch, allow_tensor=True, allow_operation=True))\n\u001b[0m\u001b[1;32m    301\u001b[0m       \u001b[0;32mexcept\u001b[0m \u001b[0mTypeError\u001b[0m \u001b[0;32mas\u001b[0m \u001b[0me\u001b[0m\u001b[0;34m:\u001b[0m\u001b[0;34m\u001b[0m\u001b[0m\n",
      "\u001b[0;32m/home/alesgaco/.local/lib/python3.6/site-packages/tensorflow/python/framework/ops.py\u001b[0m in \u001b[0;36mas_graph_element\u001b[0;34m(self, obj, allow_tensor, allow_operation)\u001b[0m\n\u001b[1;32m   3477\u001b[0m     \u001b[0;32mwith\u001b[0m \u001b[0mself\u001b[0m\u001b[0;34m.\u001b[0m\u001b[0m_lock\u001b[0m\u001b[0;34m:\u001b[0m\u001b[0;34m\u001b[0m\u001b[0m\n\u001b[0;32m-> 3478\u001b[0;31m       \u001b[0;32mreturn\u001b[0m \u001b[0mself\u001b[0m\u001b[0;34m.\u001b[0m\u001b[0m_as_graph_element_locked\u001b[0m\u001b[0;34m(\u001b[0m\u001b[0mobj\u001b[0m\u001b[0;34m,\u001b[0m \u001b[0mallow_tensor\u001b[0m\u001b[0;34m,\u001b[0m \u001b[0mallow_operation\u001b[0m\u001b[0;34m)\u001b[0m\u001b[0;34m\u001b[0m\u001b[0m\n\u001b[0m\u001b[1;32m   3479\u001b[0m \u001b[0;34m\u001b[0m\u001b[0m\n",
      "\u001b[0;32m/home/alesgaco/.local/lib/python3.6/site-packages/tensorflow/python/framework/ops.py\u001b[0m in \u001b[0;36m_as_graph_element_locked\u001b[0;34m(self, obj, allow_tensor, allow_operation)\u001b[0m\n\u001b[1;32m   3566\u001b[0m       raise TypeError(\"Can not convert a %s into a %s.\" % (type(obj).__name__,\n\u001b[0;32m-> 3567\u001b[0;31m                                                            types_str))\n\u001b[0m\u001b[1;32m   3568\u001b[0m \u001b[0;34m\u001b[0m\u001b[0m\n",
      "\u001b[0;31mTypeError\u001b[0m: Can not convert a OptimizadorN into a Tensor or Operation.",
      "\nDuring handling of the above exception, another exception occurred:\n",
      "\u001b[0;31mTypeError\u001b[0m                                 Traceback (most recent call last)",
      "\u001b[0;32m<ipython-input-4-c95eb16425b5>\u001b[0m in \u001b[0;36m<module>\u001b[0;34m()\u001b[0m\n\u001b[1;32m     43\u001b[0m     \u001b[0mprint\u001b[0m\u001b[0;34m(\u001b[0m\u001b[0msess\u001b[0m\u001b[0;34m.\u001b[0m\u001b[0mrun\u001b[0m\u001b[0;34m(\u001b[0m\u001b[0mopt\u001b[0m\u001b[0;34m.\u001b[0m\u001b[0meval\u001b[0m\u001b[0;34m(\u001b[0m\u001b[0;34m)\u001b[0m\u001b[0;34m)\u001b[0m\u001b[0;34m)\u001b[0m\u001b[0;34m\u001b[0m\u001b[0m\n\u001b[1;32m     44\u001b[0m     \u001b[0;31m#Vea que si se necesita que sea un tensor para mandarlo directo\u001b[0m\u001b[0;34m\u001b[0m\u001b[0;34m\u001b[0m\u001b[0m\n\u001b[0;32m---> 45\u001b[0;31m     \u001b[0mprint\u001b[0m\u001b[0;34m(\u001b[0m\u001b[0msess\u001b[0m\u001b[0;34m.\u001b[0m\u001b[0mrun\u001b[0m\u001b[0;34m(\u001b[0m\u001b[0mopt\u001b[0m\u001b[0;34m)\u001b[0m\u001b[0;34m)\u001b[0m\u001b[0;34m\u001b[0m\u001b[0m\n\u001b[0m",
      "\u001b[0;32m/home/alesgaco/.local/lib/python3.6/site-packages/tensorflow/python/client/session.py\u001b[0m in \u001b[0;36mrun\u001b[0;34m(self, fetches, feed_dict, options, run_metadata)\u001b[0m\n\u001b[1;32m    927\u001b[0m     \u001b[0;32mtry\u001b[0m\u001b[0;34m:\u001b[0m\u001b[0;34m\u001b[0m\u001b[0m\n\u001b[1;32m    928\u001b[0m       result = self._run(None, fetches, feed_dict, options_ptr,\n\u001b[0;32m--> 929\u001b[0;31m                          run_metadata_ptr)\n\u001b[0m\u001b[1;32m    930\u001b[0m       \u001b[0;32mif\u001b[0m \u001b[0mrun_metadata\u001b[0m\u001b[0;34m:\u001b[0m\u001b[0;34m\u001b[0m\u001b[0m\n\u001b[1;32m    931\u001b[0m         \u001b[0mproto_data\u001b[0m \u001b[0;34m=\u001b[0m \u001b[0mtf_session\u001b[0m\u001b[0;34m.\u001b[0m\u001b[0mTF_GetBuffer\u001b[0m\u001b[0;34m(\u001b[0m\u001b[0mrun_metadata_ptr\u001b[0m\u001b[0;34m)\u001b[0m\u001b[0;34m\u001b[0m\u001b[0m\n",
      "\u001b[0;32m/home/alesgaco/.local/lib/python3.6/site-packages/tensorflow/python/client/session.py\u001b[0m in \u001b[0;36m_run\u001b[0;34m(self, handle, fetches, feed_dict, options, run_metadata)\u001b[0m\n\u001b[1;32m   1135\u001b[0m     \u001b[0;31m# Create a fetch handler to take care of the structure of fetches.\u001b[0m\u001b[0;34m\u001b[0m\u001b[0;34m\u001b[0m\u001b[0m\n\u001b[1;32m   1136\u001b[0m     fetch_handler = _FetchHandler(\n\u001b[0;32m-> 1137\u001b[0;31m         self._graph, fetches, feed_dict_tensor, feed_handles=feed_handles)\n\u001b[0m\u001b[1;32m   1138\u001b[0m \u001b[0;34m\u001b[0m\u001b[0m\n\u001b[1;32m   1139\u001b[0m     \u001b[0;31m# Run request and get response.\u001b[0m\u001b[0;34m\u001b[0m\u001b[0;34m\u001b[0m\u001b[0m\n",
      "\u001b[0;32m/home/alesgaco/.local/lib/python3.6/site-packages/tensorflow/python/client/session.py\u001b[0m in \u001b[0;36m__init__\u001b[0;34m(self, graph, fetches, feeds, feed_handles)\u001b[0m\n\u001b[1;32m    469\u001b[0m     \"\"\"\n\u001b[1;32m    470\u001b[0m     \u001b[0;32mwith\u001b[0m \u001b[0mgraph\u001b[0m\u001b[0;34m.\u001b[0m\u001b[0mas_default\u001b[0m\u001b[0;34m(\u001b[0m\u001b[0;34m)\u001b[0m\u001b[0;34m:\u001b[0m\u001b[0;34m\u001b[0m\u001b[0m\n\u001b[0;32m--> 471\u001b[0;31m       \u001b[0mself\u001b[0m\u001b[0;34m.\u001b[0m\u001b[0m_fetch_mapper\u001b[0m \u001b[0;34m=\u001b[0m \u001b[0m_FetchMapper\u001b[0m\u001b[0;34m.\u001b[0m\u001b[0mfor_fetch\u001b[0m\u001b[0;34m(\u001b[0m\u001b[0mfetches\u001b[0m\u001b[0;34m)\u001b[0m\u001b[0;34m\u001b[0m\u001b[0m\n\u001b[0m\u001b[1;32m    472\u001b[0m     \u001b[0mself\u001b[0m\u001b[0;34m.\u001b[0m\u001b[0m_fetches\u001b[0m \u001b[0;34m=\u001b[0m \u001b[0;34m[\u001b[0m\u001b[0;34m]\u001b[0m\u001b[0;34m\u001b[0m\u001b[0m\n\u001b[1;32m    473\u001b[0m     \u001b[0mself\u001b[0m\u001b[0;34m.\u001b[0m\u001b[0m_targets\u001b[0m \u001b[0;34m=\u001b[0m \u001b[0;34m[\u001b[0m\u001b[0;34m]\u001b[0m\u001b[0;34m\u001b[0m\u001b[0m\n",
      "\u001b[0;32m/home/alesgaco/.local/lib/python3.6/site-packages/tensorflow/python/client/session.py\u001b[0m in \u001b[0;36mfor_fetch\u001b[0;34m(fetch)\u001b[0m\n\u001b[1;32m    269\u001b[0m         \u001b[0;32mif\u001b[0m \u001b[0misinstance\u001b[0m\u001b[0;34m(\u001b[0m\u001b[0mfetch\u001b[0m\u001b[0;34m,\u001b[0m \u001b[0mtensor_type\u001b[0m\u001b[0;34m)\u001b[0m\u001b[0;34m:\u001b[0m\u001b[0;34m\u001b[0m\u001b[0m\n\u001b[1;32m    270\u001b[0m           \u001b[0mfetches\u001b[0m\u001b[0;34m,\u001b[0m \u001b[0mcontraction_fn\u001b[0m \u001b[0;34m=\u001b[0m \u001b[0mfetch_fn\u001b[0m\u001b[0;34m(\u001b[0m\u001b[0mfetch\u001b[0m\u001b[0;34m)\u001b[0m\u001b[0;34m\u001b[0m\u001b[0m\n\u001b[0;32m--> 271\u001b[0;31m           \u001b[0;32mreturn\u001b[0m \u001b[0m_ElementFetchMapper\u001b[0m\u001b[0;34m(\u001b[0m\u001b[0mfetches\u001b[0m\u001b[0;34m,\u001b[0m \u001b[0mcontraction_fn\u001b[0m\u001b[0;34m)\u001b[0m\u001b[0;34m\u001b[0m\u001b[0m\n\u001b[0m\u001b[1;32m    272\u001b[0m     \u001b[0;31m# Did not find anything.\u001b[0m\u001b[0;34m\u001b[0m\u001b[0;34m\u001b[0m\u001b[0m\n\u001b[1;32m    273\u001b[0m     raise TypeError('Fetch argument %r has invalid type %r' % (fetch,\n",
      "\u001b[0;32m/home/alesgaco/.local/lib/python3.6/site-packages/tensorflow/python/client/session.py\u001b[0m in \u001b[0;36m__init__\u001b[0;34m(self, fetches, contraction_fn)\u001b[0m\n\u001b[1;32m    302\u001b[0m         raise TypeError('Fetch argument %r has invalid type %r, '\n\u001b[1;32m    303\u001b[0m                         \u001b[0;34m'must be a string or Tensor. (%s)'\u001b[0m \u001b[0;34m%\u001b[0m\u001b[0;34m\u001b[0m\u001b[0m\n\u001b[0;32m--> 304\u001b[0;31m                         (fetch, type(fetch), str(e)))\n\u001b[0m\u001b[1;32m    305\u001b[0m       \u001b[0;32mexcept\u001b[0m \u001b[0mValueError\u001b[0m \u001b[0;32mas\u001b[0m \u001b[0me\u001b[0m\u001b[0;34m:\u001b[0m\u001b[0;34m\u001b[0m\u001b[0m\n\u001b[1;32m    306\u001b[0m         raise ValueError('Fetch argument %r cannot be interpreted as a '\n",
      "\u001b[0;31mTypeError\u001b[0m: Fetch argument <__main__.OptimizadorN object at 0x7fdc040e2518> has invalid type <class '__main__.OptimizadorN'>, must be a string or Tensor. (Can not convert a OptimizadorN into a Tensor or Operation.)"
     ]
    }
   ],
   "source": [
    "class OptimizadorN():#tf.Operation):\n",
    "    def set_objetive(self,obj):\n",
    "        self.obj= obj\n",
    "    \n",
    "    def __init__(self, T = 100):\n",
    "        self.variables = tf.global_variables()\n",
    "        self.T = T\n",
    "        #self._graph = tf.get_default_graph()\n",
    "        #self._c_op = None\n",
    "    def method(self):\n",
    "        f_old = self.obj.eval()\n",
    "        var = []\n",
    "        dependencies = []\n",
    "        for variable in self.variables:\n",
    "            var.append (variable.assign(variable.eval()))\n",
    "            dependencies.append (variable.assign(variable.eval() - np.random.uniform()))\n",
    "        with tf.control_dependencies(dependencies):\n",
    "        #print(sess.run([ y_update, x_update]))\n",
    "            nodes = dependencies\n",
    "            delta = f.eval() - f_old\n",
    "            if delta > 0 :\n",
    "                next\n",
    "            elif pow(np.e, -delta/ self.T) >= np.random.uniform():\n",
    "                print(\"probablidad\" + str(pow(np.e, -delta/ self.T)))\n",
    "                next\n",
    "            else:\n",
    "                nodes = var\n",
    "        self.operaciones = nodes\n",
    "        \n",
    "    def eval(self):\n",
    "        self.method()\n",
    "        return(self.operaciones)\n",
    "\n",
    "# bloque principal\n",
    "\n",
    "opt =OptimizadorN()\n",
    "opt.set_objetive(f)\n",
    "with tf.Session() as sess:\n",
    "    init_op = tf.global_variables_initializer()\n",
    "    sess.run(init_op);\n",
    "    #la funcion solo returna los nodos del grafo que deben ser ejecutados, a la final yo los encadeno en evaluar el assign del \n",
    "    #valor en el que deben terminar las variables  \n",
    "    print(sess.run(opt.eval()))\n",
    "    #Vea que si se necesita que sea un tensor para mandarlo directo\n",
    "    print(sess.run(opt))"
   ]
  },
  {
   "cell_type": "code",
   "execution_count": 5,
   "metadata": {},
   "outputs": [
    {
     "data": {
      "text/plain": [
       "1"
      ]
     },
     "execution_count": 5,
     "metadata": {},
     "output_type": "execute_result"
    }
   ],
   "source": [
    "[1,2,3,4,5,10][0]"
   ]
  },
  {
   "cell_type": "code",
   "execution_count": 6,
   "metadata": {},
   "outputs": [
    {
     "data": {
      "text/plain": [
       "0.5564745307026296"
      ]
     },
     "execution_count": 6,
     "metadata": {},
     "output_type": "execute_result"
    }
   ],
   "source": [
    "np.random.uniform()"
   ]
  },
  {
   "cell_type": "code",
   "execution_count": null,
   "metadata": {
    "collapsed": true
   },
   "outputs": [],
   "source": []
  }
 ],
 "metadata": {
  "kernelspec": {
   "display_name": "Python 3",
   "language": "python",
   "name": "python3"
  },
  "language_info": {
   "codemirror_mode": {
    "name": "ipython",
    "version": 3
   },
   "file_extension": ".py",
   "mimetype": "text/x-python",
   "name": "python",
   "nbconvert_exporter": "python",
   "pygments_lexer": "ipython3",
   "version": "3.6.1"
  }
 },
 "nbformat": 4,
 "nbformat_minor": 2
}
