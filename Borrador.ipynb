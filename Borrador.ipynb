{
 "cells": [
  {
   "cell_type": "code",
   "execution_count": 1,
   "metadata": {
    "collapsed": true
   },
   "outputs": [],
   "source": [
    "from __future__ import absolute_import\n",
    "from __future__ import division\n",
    "from __future__ import print_function\n",
    "\n",
    "import numpy as np\n",
    "import tensorflow as tf"
   ]
  },
  {
   "cell_type": "code",
   "execution_count": null,
   "metadata": {
    "collapsed": true
   },
   "outputs": [],
   "source": [
    "class Optimizer:\n",
    "    def __init__():\n",
    "        this.sess = tf.Session()\n",
    "    \n",
    "    def evaluationSurvival(function, poblation):\n",
    "        def temporal(*x):\n",
    "            return {\"people\":x,\"survive\":function(x)}\n",
    "        return poblation.map(temporal)\n",
    "    \n",
    "    def evaluationTensor(function):\n",
    "        \n",
    "    def init_var():\n",
    "        this.variables = tf.global_variables()\n",
    "\n",
    "    def generateInitialPoblation():\n",
    "        this.init_var()\n",
    "        rows = []\n",
    "        for variable in tf.global_variables():\n",
    "            col = []\n",
    "            for i in range(30):\n",
    "                col.append( tf.random.uniform(variable.shape))\n",
    "            rows.append(col)\n",
    "        data = tf.data.Dataset.from_tensor_slices(tuple(rows))\n",
    "    \n",
    "    def interation(dataset):\n",
    "        iterator = dataset.make_initializable_iterator()\n",
    "        sess.run(iterator.initializer)\n",
    "        next_element = iterator.get_next()\n",
    "        item =  next_element\n",
    "        while True:\n",
    "            try: \n",
    "                compare= tf.less(item[\"survive\"],sess.run(next_element)[\"survive\"])\n",
    "                if sess.run(compare):\n",
    "                    item =sess.run(next_element)\n",
    "            except tf.errors.OutOfRangeError:\n",
    "            break\n",
    "        return(item)\n",
    "    \n",
    "    def fixFunction(function):\n",
    "        def temporal(*x):\n",
    "            newpeople = item[\"people\"] + x[\"people\"] / 2 #put some function\n",
    "            return {\"people\":newpeople,\"survive\":functionDummy(newpeople)}\n",
    "        return poblation.map(temporal)\n",
    "\n",
    "    "
   ]
  },
  {
   "cell_type": "code",
   "execution_count": 2,
   "metadata": {},
   "outputs": [
    {
     "name": "stdout",
     "output_type": "stream",
     "text": [
      "(<tf.Tensor 'arg0:0' shape=(1,) dtype=float64>, <tf.Tensor 'arg1:0' shape=(1,) dtype=float64>)\n"
     ]
    }
   ],
   "source": [
    "features, labels = (np.random.sample((100,1)), np.random.sample((100,1)))\n",
    "dataset = tf.data.Dataset.from_tensor_slices((features,labels))\n",
    "sess = tf.Session()\n",
    "def functionDummy(*x):\n",
    "    total = 0\n",
    "    print(x)\n",
    "    for i in x:\n",
    "        total = pow(i,2)\n",
    "    return {\"people\":x,\"survive\":-total}\n",
    "\n",
    "dataset = dataset.map(functionDummy)\n",
    "#maxi = tf.math.argmax(dataset)\n",
    "#print(maxi)\n",
    "iterator = dataset.make_one_shot_iterator()\n",
    "next_element = iterator.get_next()\n",
    "\n",
    "item =  next_element\n",
    "while True:\n",
    "    try: \n",
    "        compare= tf.less(item[\"survive\"],sess.run(next_element)[\"survive\"])\n",
    "        if sess.run(compare):\n",
    "            item =sess.run(next_element)\n",
    "    except tf.errors.OutOfRangeError:\n",
    "        break\n",
    "\n",
    "def fixFunction(*x):\n",
    "    newpeople = item[\"people\"] + x[\"people\"] / 2\n",
    "    return {\"people\":newpeople,\"survive\":functionDummy(newpeople)}\n",
    "    \n",
    "#dataset = dataset.map(fixFunction)"
   ]
  },
  {
   "cell_type": "code",
   "execution_count": 76,
   "metadata": {
    "collapsed": true
   },
   "outputs": [],
   "source": [
    "dicc = dict()"
   ]
  },
  {
   "cell_type": "code",
   "execution_count": 77,
   "metadata": {
    "collapsed": true
   },
   "outputs": [],
   "source": [
    "dicc[\"amarillo\"] = 1"
   ]
  },
  {
   "cell_type": "code",
   "execution_count": 79,
   "metadata": {},
   "outputs": [
    {
     "name": "stdout",
     "output_type": "stream",
     "text": [
      "{'amarillo': 3}\n"
     ]
    }
   ],
   "source": [
    "dicc[\"amarillo\"] = 3\n",
    "print(dicc)"
   ]
  },
  {
   "cell_type": "code",
   "execution_count": 88,
   "metadata": {},
   "outputs": [
    {
     "data": {
      "text/plain": [
       "-0.0123963496011504"
      ]
     },
     "execution_count": 88,
     "metadata": {},
     "output_type": "execute_result"
    }
   ],
   "source": [
    "- pow(0.1205712,2) + pow(0.04627164,2)"
   ]
  },
  {
   "cell_type": "code",
   "execution_count": 91,
   "metadata": {},
   "outputs": [
    {
     "data": {
      "text/plain": [
       "0.30911820768937737"
      ]
     },
     "execution_count": 91,
     "metadata": {},
     "output_type": "execute_result"
    }
   ],
   "source": [
    "pow(0.53631437,2) +  pow(0.14657798,2)"
   ]
  },
  {
   "cell_type": "code",
   "execution_count": 99,
   "metadata": {},
   "outputs": [
    {
     "name": "stdout",
     "output_type": "stream",
     "text": [
      "(0.6784184, 0.14471732)\n"
     ]
    },
    {
     "data": {
      "text/plain": [
       "{'people': (0.6784184, 0.14471732), 'survive': -0.020943102707982404}"
      ]
     },
     "execution_count": 99,
     "metadata": {},
     "output_type": "execute_result"
    }
   ],
   "source": [
    "functionDummy(0.6784184, 0.14471732)"
   ]
  },
  {
   "cell_type": "code",
   "execution_count": 4,
   "metadata": {},
   "outputs": [
    {
     "name": "stdout",
     "output_type": "stream",
     "text": [
      "WARNING:tensorflow:From /home/alesgaco/.local/lib/python3.6/site-packages/tensorflow/python/framework/op_def_library.py:263: colocate_with (from tensorflow.python.framework.ops) is deprecated and will be removed in a future version.\n",
      "Instructions for updating:\n",
      "Colocations handled automatically by placer.\n"
     ]
    }
   ],
   "source": [
    "x = tf.Variable([-0.5 , -0.2], np.float32)\n",
    "y = tf.Variable([+3.5, +0.2], np.float32)\n",
    "\n",
    "f = tf.add(tf.multiply(tf.constant(100.),\n",
    "                       tf.pow(tf.subtract(tf.pow(x, 2), y), 2)),\n",
    "           tf.pow(tf.subtract(tf.constant(1.0), x), 2))\n",
    "with tf.name_scope(\"inner\"):\n",
    "    c_3 = tf.Variable(+3.0, np.float32,name=\"c\") "
   ]
  },
  {
   "cell_type": "code",
   "execution_count": 5,
   "metadata": {},
   "outputs": [
    {
     "data": {
      "text/plain": [
       "<tf.Tensor 'random_uniform:0' shape=(2,) dtype=float32>"
      ]
     },
     "execution_count": 5,
     "metadata": {},
     "output_type": "execute_result"
    }
   ],
   "source": [
    "tf.random.uniform(tf.global_variables()[1].shape)"
   ]
  },
  {
   "cell_type": "code",
   "execution_count": 57,
   "metadata": {},
   "outputs": [
    {
     "name": "stdout",
     "output_type": "stream",
     "text": [
      "1061.5\n",
      "1061.5\n",
      "1061.5\n",
      "1061.5\n",
      "1061.5\n",
      "1061.5\n",
      "1061.5\n",
      "1061.5\n",
      "1061.5\n",
      "1061.5\n",
      "1061.5\n",
      "1061.5\n",
      "1061.5\n",
      "1061.5\n",
      "1061.5\n",
      "1061.5\n",
      "1061.5\n",
      "1061.5\n",
      "1061.5\n",
      "1061.5\n",
      "1061.5\n",
      "1061.5\n",
      "1061.5\n",
      "1061.5\n",
      "1061.5\n",
      "1061.5\n",
      "1061.5\n",
      "1061.5\n",
      "1061.5\n",
      "1061.5\n",
      "1061.5\n",
      "1061.5\n",
      "1061.5\n",
      "1061.5\n",
      "1061.5\n",
      "1061.5\n",
      "1061.5\n",
      "1061.5\n",
      "1061.5\n",
      "1061.5\n",
      "1061.5\n",
      "1061.5\n",
      "1061.5\n",
      "1061.5\n",
      "1061.5\n",
      "1061.5\n",
      "1061.5\n",
      "1061.5\n",
      "1061.5\n",
      "1061.5\n",
      "1061.5\n",
      "1061.5\n",
      "1061.5\n",
      "1061.5\n",
      "1061.5\n",
      "1061.5\n",
      "1061.5\n",
      "1061.5\n",
      "1061.5\n",
      "1061.5\n",
      "1061.5\n",
      "1061.5\n",
      "1061.5\n",
      "1061.5\n",
      "1061.5\n",
      "1061.5\n",
      "1061.5\n",
      "1061.5\n",
      "1061.5\n",
      "1061.5\n",
      "1061.5\n",
      "628.0\n",
      "1061.5\n",
      "61.5\n",
      "1061.5\n",
      "1059.5\n"
     ]
    }
   ],
   "source": [
    "init_op = tf.initialize_all_variables()\n",
    "\n",
    "# Later, when launching the model\n",
    "with tf.Session() as sess:\n",
    "    for a in tf.global_variables():\n",
    "        sess.run(init_op)\n",
    "        print(sess.run(f))\n",
    "        sess.run(a.assign(1))\n",
    "        print(sess.run(f))\n",
    "        sess.run(f)      \n"
   ]
  },
  {
   "cell_type": "code",
   "execution_count": 15,
   "metadata": {},
   "outputs": [
    {
     "name": "stdout",
     "output_type": "stream",
     "text": [
      "(array([0.9598913 , 0.20910347], dtype=float32), array([0.89001286, 0.04134977], dtype=float32), 0.32677412)\n",
      "(array([0.52631974, 0.21560538], dtype=float32), array([0.23398626, 0.01448655], dtype=float32), 0.25021636)\n",
      "(array([0.1703999, 0.3608843], dtype=float32), array([0.20207131, 0.33776486], dtype=float32), 0.2953087)\n",
      "(array([0.2830752 , 0.71027195], dtype=float32), array([0.1392647, 0.9055178], dtype=float32), 0.4199214)\n",
      "(array([0.5799773 , 0.05198836], dtype=float32), array([0.05908942, 0.62962973], dtype=float32), 0.82864654)\n",
      "(array([0.26339388, 0.04343009], dtype=float32), array([0.930684 , 0.9531534], dtype=float32), 0.77687335)\n",
      "(array([0.26082635, 0.76803744], dtype=float32), array([0.6231047, 0.3949387], dtype=float32), 0.5616933)\n",
      "(array([0.6456679, 0.8073181], dtype=float32), array([0.61074054, 0.7981739 ], dtype=float32), 0.3929416)\n",
      "(array([0.4886974, 0.9460094], dtype=float32), array([0.12580955, 0.1924789 ], dtype=float32), 0.42994225)\n",
      "(array([0.41895318, 0.56090784], dtype=float32), array([0.14055109, 0.38613296], dtype=float32), 0.78185296)\n",
      "(array([0.5036441, 0.6966598], dtype=float32), array([0.64077115, 0.29270875], dtype=float32), 0.2112335)\n",
      "(array([0.51147854, 0.6435211 ], dtype=float32), array([0.32716858, 0.5719148 ], dtype=float32), 0.8243364)\n",
      "(array([0.35322344, 0.9248327 ], dtype=float32), array([0.38396752, 0.6631423 ], dtype=float32), 0.09849393)\n",
      "(array([0.11767769, 0.53294384], dtype=float32), array([0.070081  , 0.74236965], dtype=float32), 0.6400155)\n",
      "(array([0.0489527 , 0.52037907], dtype=float32), array([0.6777158 , 0.30259013], dtype=float32), 0.41373742)\n",
      "(array([0.4136716 , 0.81834257], dtype=float32), array([0.67398167, 0.31589067], dtype=float32), 0.09759724)\n",
      "(array([0.62741613, 0.9126457 ], dtype=float32), array([0.5943166 , 0.07324493], dtype=float32), 0.45559502)\n",
      "(array([0.7447789 , 0.04797316], dtype=float32), array([0.9303217 , 0.69049156], dtype=float32), 0.26522434)\n",
      "(array([0.65895724, 0.25476074], dtype=float32), array([0.17433524, 0.5621786 ], dtype=float32), 0.82004404)\n",
      "(array([0.10638201, 0.8587022 ], dtype=float32), array([0.5970441 , 0.22986817], dtype=float32), 0.43352342)\n",
      "(array([0.7540866, 0.7161815], dtype=float32), array([0.30276918, 0.12075222], dtype=float32), 0.8939569)\n",
      "(array([0.53332114, 0.21030486], dtype=float32), array([0.53337157, 0.23314762], dtype=float32), 0.84502125)\n",
      "(array([0.2695608, 0.7797073], dtype=float32), array([0.2382325 , 0.42815745], dtype=float32), 0.6932347)\n",
      "(array([0.5968509 , 0.14925754], dtype=float32), array([0.12474513, 0.15172625], dtype=float32), 0.91705394)\n",
      "(array([0.7054975 , 0.17024338], dtype=float32), array([0.22002125, 0.65412724], dtype=float32), 0.5094776)\n",
      "(array([0.5142554 , 0.27576423], dtype=float32), array([0.4330659, 0.9815246], dtype=float32), 0.85779285)\n",
      "(array([0.50704944, 0.6334429 ], dtype=float32), array([0.02534473, 0.710886  ], dtype=float32), 0.9123095)\n",
      "(array([0.19807267, 0.36183393], dtype=float32), array([0.40236914, 0.15173173], dtype=float32), 0.5184225)\n",
      "(array([0.22531354, 0.46798933], dtype=float32), array([0.60976815, 0.32468486], dtype=float32), 0.4258232)\n",
      "(array([0.15380704, 0.18699503], dtype=float32), array([0.8300688 , 0.12160909], dtype=float32), 0.4330746)\n"
     ]
    }
   ],
   "source": [
    "rows = []\n",
    "for variable in tf.global_variables():\n",
    "    col = []\n",
    "    for i in range(30):\n",
    "        col.append( tf.random.uniform(variable.shape))\n",
    "    rows.append(col)\n",
    "data = tf.data.Dataset.from_tensor_slices(tuple(rows))\n",
    "\n",
    "iterator = data.make_initializable_iterator()\n",
    "sess.run(iterator.initializer)\n",
    "next_element = iterator.get_next()\n",
    "\n",
    "item =  next_element\n",
    "while True:\n",
    "    try: \n",
    "        item =sess.run(next_element)\n",
    "        print(item)\n",
    "    except tf.errors.OutOfRangeError:\n",
    "        break"
   ]
  },
  {
   "cell_type": "code",
   "execution_count": null,
   "metadata": {
    "collapsed": true
   },
   "outputs": [],
   "source": []
  }
 ],
 "metadata": {
  "kernelspec": {
   "display_name": "Python 3",
   "language": "python",
   "name": "python3"
  },
  "language_info": {
   "codemirror_mode": {
    "name": "ipython",
    "version": 3
   },
   "file_extension": ".py",
   "mimetype": "text/x-python",
   "name": "python",
   "nbconvert_exporter": "python",
   "pygments_lexer": "ipython3",
   "version": "3.6.1"
  }
 },
 "nbformat": 4,
 "nbformat_minor": 2
}
