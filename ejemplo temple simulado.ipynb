{
 "cells": [
  {
   "cell_type": "code",
   "execution_count": 4,
   "metadata": {
    "collapsed": true
   },
   "outputs": [],
   "source": [
    "from __future__ import absolute_import\n",
    "from __future__ import division\n",
    "from __future__ import print_function\n",
    "\n",
    "import numpy as np\n",
    "import tensorflow as tf"
   ]
  },
  {
   "cell_type": "code",
   "execution_count": 11,
   "metadata": {
    "collapsed": true
   },
   "outputs": [],
   "source": [
    "class OptimizadorN(list):#tf.Operation):\n",
    "    def set_objetive(self,obj):\n",
    "        self.obj= obj\n",
    "    \n",
    "    def __init__(self, T = 100):\n",
    "        self.variables = tf.global_variables()\n",
    "        self.T = T\n",
    "        #self._graph = tf.get_default_graph()\n",
    "        #self._c_op = None\n",
    "    def method(self):\n",
    "        f_old = self.obj.eval()\n",
    "        var = []\n",
    "        dependencies = []\n",
    "        for variable in self.variables:\n",
    "            var.append (variable.assign(variable.eval()))\n",
    "            dependencies.append (variable.assign(variable.eval() - np.random.uniform()))\n",
    "        with tf.control_dependencies(dependencies):\n",
    "        #print(sess.run([ y_update, x_update]))\n",
    "            nodes = dependencies\n",
    "            delta = f.eval() - f_old\n",
    "            if delta > 0 :\n",
    "                next\n",
    "            elif pow(np.e, -delta/ self.T) >= np.random.uniform():\n",
    "                #print(\"probablidad\" + str(pow(np.e, -delta/ self.T)))\n",
    "                next\n",
    "            else:\n",
    "                nodes = var\n",
    "        self.operaciones = nodes\n",
    "        super().extend(self.operaciones)\n",
    "        \n",
    "    def eval(self):\n",
    "        self.method()\n",
    "        return(self.operaciones)"
   ]
  },
  {
   "cell_type": "code",
   "execution_count": 12,
   "metadata": {},
   "outputs": [],
   "source": [
    "x = tf.Variable(-20, np.float32)\n",
    "y = tf.Variable(-30, np.float32)\n",
    "f = tf.pow(tf.add(x,y), 2)"
   ]
  },
  {
   "cell_type": "code",
   "execution_count": 13,
   "metadata": {},
   "outputs": [
    {
     "name": "stdout",
     "output_type": "stream",
     "text": [
      "[-20, -30, -20, -30, -20, -30]\n",
      "[-20, -30, -20, -30, -20, -30]\n"
     ]
    }
   ],
   "source": [
    "opt =OptimizadorN()\n",
    "opt.set_objetive(f)\n",
    "with tf.Session() as sess:\n",
    "    init_op = tf.global_variables_initializer()\n",
    "    sess.run(init_op);\n",
    "    #la funcion solo returna los nodos del grafo que deben ser ejecutados, a la final yo los encadeno en evaluar el assign del \n",
    "    #valor en el que deben terminar las variables  \n",
    "    print(sess.run(opt.eval()))\n",
    "    #Vea que si se necesita que sea un tensor para mandarlo directo\n",
    "    print(sess.run(opt))"
   ]
  }
 ],
 "metadata": {
  "kernelspec": {
   "display_name": "Python 3",
   "language": "python",
   "name": "python3"
  },
  "language_info": {
   "codemirror_mode": {
    "name": "ipython",
    "version": 3
   },
   "file_extension": ".py",
   "mimetype": "text/x-python",
   "name": "python",
   "nbconvert_exporter": "python",
   "pygments_lexer": "ipython3",
   "version": "3.6.1"
  }
 },
 "nbformat": 4,
 "nbformat_minor": 2
}
