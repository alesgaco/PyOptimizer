{
 "cells": [
  {
   "cell_type": "code",
   "execution_count": 1,
   "metadata": {},
   "outputs": [],
   "source": [
    "import scipy.optimize as csyopt\n",
    "import math\n",
    "import tensorflow as tf\n",
    "import numpy as np\n",
    "import datetime"
   ]
  },
  {
   "cell_type": "code",
   "execution_count": 2,
   "metadata": {},
   "outputs": [],
   "source": [
    "#http://citeseerx.ist.psu.edu/viewdoc/download?doi=10.1.1.641.3566&rep=rep1&type=pdf\n",
    "#rosenbrock f=0 at (1,1) start = (-1.2, 1) \n",
    "def rosenbrock(x):\n",
    "    return (10 * (x[0] - (x[1] ** 2))) ** 2 + ((1 -x[0]) ** 2)\n",
    "\n",
    "#freudenstein and Roth function f= 0 at (5,4) start = (0.5 ,-2)\n",
    "def freudenstein(x):\n",
    "    return (-13 + x[0] + ((5 - x[1])* x[1] - 2) * x[1]) ** 2 + (-29 +x[0]+((x[1]+1)*x[1]- 14)* x[1]) ** 2\n",
    "\n",
    "#Powell badly scaled function f=0 at (1.098 * (10 ** -5),9.106)  start = (0, 1)\n",
    "def powell(x):\n",
    "    return (((10 ** 4)* x[0] * x[1] - 1) ** 2) + ((math.exp(-x[0]) + math.exp(-x[1]) - 1.0001) ** 2)\n",
    "\n",
    "\n",
    "#brown badly scaled function [unpublished] start = (1, 1) f=0 at (10*6, 2*10 ** -6)\n",
    "def brown(x):\n",
    "    f1 = x[0] - (10 ** 6)\n",
    "    f2 = x[1] - (2*10 ** -6)\n",
    "    f3 =  x[0]*x[1] - 2\n",
    "    return (f1 ** 2) + (f2 ** 2) + (f3 ** 2)\n",
    "\n",
    "#beale function start = (1, 1) f=0 at (3, 0.5)\n",
    "def beale(x):\n",
    "    y= (1.5,2.25,2.625)\n",
    "    result = 0\n",
    "    for i in range(3):\n",
    "        result += (y[i] - x[0]*(1 - x[1]** (i+1))) ** 2\n",
    "    return result\n",
    "\n",
    "#Jennrich and Sampson function fmin = 22.86657580612254 start = (0.3, 0.4)\n",
    "def jennrich(x):\n",
    "    result = 0\n",
    "    for i in range(1,11):\n",
    "        result += 2 + 2* i - (math.exp(i*x[0]) + math.exp(i*x[1]))\n",
    "    return result\n",
    "\n",
    "\n",
    "#Helical valley function start x0=(-1,0,0) f0 = (1,0,0)\n",
    "def helical_valley(x):\n",
    "    def theta():\n",
    "        value = (1/(2 * math.pi)) * math.atan2(x[1],x[0])\n",
    "        if(x[0] < 0):\n",
    "            value += 0.5\n",
    "        return value\n",
    "    f1 = 10 * (x[2] - 10 * theta())\n",
    "    f2 = 10* ((((x[0]**2 + x[1]**2)) ** (1/2)) -1)\n",
    "    f3 = x[2]\n",
    "    return (f1 ** 2) + (f2 ** 2) + (f3 ** 2)\n",
    "\n",
    "#bard function start in (1,1,1) min (0.8406,-inf,-inf)\n",
    "def bard(x):\n",
    "    y = (0.14,0.18,0.33,0.25, 0.29, 0.32,0.35,0.39,0.37,0.58,0.73,0.96,1.34,2.10,4.39)\n",
    "    result = 0\n",
    "    for i in range(1,16):\n",
    "        v =(16- i)\n",
    "        u = i\n",
    "        w = min(u,v)\n",
    "        result += (y[i-1] - (x[0] +  u/(v*x[1] + w*x[2] ) ) ) ** 2\n",
    "    return result\n",
    "        \n",
    "    \n",
    "#Gaussian function Xo = (0.4, 1, 0) f= 1.12793 10-8\n",
    "def gaussian(x):\n",
    "    y= (0.0009,.0044, 0.0175, 0.0540, 0.1295, 0.2420, 0.3521, 0.3989, 0.3521, 0.2420,0.1295,0.0540, 0.0175, 0.0044, 0.0009)\n",
    "    result = 0\n",
    "    for i in range(1,16):\n",
    "        t = (8 - i) /2\n",
    "        result += (x[0]* math.exp((-x[1] * (t - x[2]) ** 2 ) / 2 ) - y[i-1]) ** 2\n",
    "    return result\n",
    "\n",
    "#meyer function f = 87.9458 start = (.02, 4000, 250)\n",
    "def meyer(x):\n",
    "    y = (34780, 28610, 23650, 19630,16370, 13720,11540, 9744, 8261, 7030, 6005, 5147,4427, 3820,3307,2872)\n",
    "    result = 0\n",
    "    for i in range(1,17):\n",
    "        t = 45 + (5 * i)\n",
    "        result += (x[0] * math.exp(x[1]/(t+ x[2])) - y[i-1]) ** 2\n",
    "    return result\n",
    "\n",
    "#gulf research and development function start (5, 2.5, 0.15) f= 0 at (50,25,1.5) revisar no da 0\n",
    "def gulf(x):\n",
    "    iterations = 3\n",
    "    result = 0\n",
    "    for i in range(1,iterations + 1):\n",
    "        t= i/100\n",
    "        y= 25 + (-50* math.log(t)) ** (2/3)\n",
    "        result += (math.exp(-(abs(y* iterations * i * x[1]) ** x[2]  )/ x[0]  ) -t) ** 2\n",
    "    return result\n",
    "\n",
    "\n",
    "#Box three-dimensional function  start = (0, 10, 20) f=0 at (1,10,1),(10,1,-1) wherever (xl = x2 and x3 = 0)\n",
    "def box3dimecional(x):\n",
    "    iterations = 4\n",
    "    result = 0\n",
    "    for i in range(1,iterations + 1):\n",
    "        t = .1* i\n",
    "        result += (math.exp(-t * x[0]) - math.exp(-t * x[1]) - x[2] * (math.exp(-t) - math.exp(-10 * t))) ** 2\n",
    "    return result\n",
    "\n",
    "#powell singular function f = 0 at the origin start = (3, -1, 0, 1)\n",
    "def powell_singular(x):\n",
    "    f1 = x[0] + 10 * x[1]\n",
    "    f2 = (5 ** (1/2)) * (x[2] - x[3])\n",
    "    f3 = (x[1] -2*x[2]) ** 2\n",
    "    f4 = (10 ** (1/2)) * ((x[0] - x[3]) ** 2)\n",
    "    return (f1 ** 2) + (f2 ** 2) + (f3 ** 2) + (f4 ** 2)\n",
    "\n",
    "#Wood function Xo= (-3,-1,-3,-1) f = 0 at (1,1,1,1)\n",
    "def wood(x):\n",
    "    f1 = 10 * (x[0] - (x[1]** 2))\n",
    "    f2 = 1 - x[0]\n",
    "    f3= (x[3] - (x[2]** 2)) * (90 ** (1/2))\n",
    "    f4 = 1- x[2]\n",
    "    return (f1 ** 2) + (f2 ** 2) + (f3 ** 2) + (f4 ** 2)\n",
    "\n",
    "#kowalik and osborne funcion no funciona 1.02734 x 10 ** -3 at (10 ** 99, -14.07, -10** 99, -10** 99)\n",
    "def kowalik(x):\n",
    "    y = (0.1957, 0.1947, 0.1735, 0.1600, 0.0844, 0.0627, 0.0456, 0.0342, 0.0323, 0.0235, 0.0246)\n",
    "    u = (4.0000, 2.0000, 1.0000, 0.5000, 0.2500, 0.1670, 0.1250, 0.1000, 0.0833, 0.0714, 0.0625)\n",
    "    result = 0\n",
    "    for i in range(11):\n",
    "        result +=  (y[i] - ((x[0] * ((u[i] ** 2) + (u[i] * x[1]))) / ((u[i] ** 2) + (u[i] * x[2]) +  x[3] ))) ** 2\n",
    "    return result"
   ]
  },
  {
   "cell_type": "code",
   "execution_count": 3,
   "metadata": {},
   "outputs": [
    {
     "name": "stdout",
     "output_type": "stream",
     "text": [
      " final_simplex: (array([[0.99995555, 0.99997821],\n",
      "       [1.00001647, 1.00000589],\n",
      "       [1.00005122, 1.00002754]]), array([2.05196900e-09, 2.47801465e-09, 4.11920381e-09]))\n",
      "           fun: 2.0519690043222226e-09\n",
      "       message: 'Optimization terminated successfully.'\n",
      "          nfev: 163\n",
      "           nit: 86\n",
      "        status: 0\n",
      "       success: True\n",
      "             x: array([0.99995555, 0.99997821])\n",
      "11.143\n"
     ]
    }
   ],
   "source": [
    "init = datetime.datetime.now()\n",
    "print(csyopt.minimize(rosenbrock , (-1.2, 1) , method = 'Nelder-Mead'   ))\n",
    "end = datetime.datetime.now()\n",
    "print((end - init).total_seconds() * 1000)"
   ]
  },
  {
   "cell_type": "code",
   "execution_count": 4,
   "metadata": {},
   "outputs": [
    {
     "name": "stdout",
     "output_type": "stream",
     "text": [
      " final_simplex: (array([[11.41278135, -0.89680399],\n",
      "       [11.41283714, -0.8968021 ],\n",
      "       [11.41271323, -0.89680896]]), array([48.98425368, 48.98425368, 48.98425368]))\n",
      "           fun: 48.98425367981376\n",
      "       message: 'Optimization terminated successfully.'\n",
      "          nfev: 120\n",
      "           nit: 63\n",
      "        status: 0\n",
      "       success: True\n",
      "             x: array([11.41278135, -0.89680399])\n",
      "5.018\n"
     ]
    }
   ],
   "source": [
    "init = datetime.datetime.now()\n",
    "print(csyopt.minimize(freudenstein , (0.5 ,-2),  method = 'Nelder-Mead'))\n",
    "end = datetime.datetime.now()\n",
    "print((end - init).total_seconds() * 1000)"
   ]
  },
  {
   "cell_type": "code",
   "execution_count": 5,
   "metadata": {},
   "outputs": [
    {
     "name": "stdout",
     "output_type": "stream",
     "text": [
      " final_simplex: (array([[1.17714307e-05, 8.49512936e+00],\n",
      "       [1.17991888e-05, 8.47504727e+00],\n",
      "       [1.18285673e-05, 8.45422234e+00]]), array([8.59453336e-09, 9.54568776e-09, 1.04145728e-08]))\n",
      "           fun: 8.594533356831049e-09\n",
      "       message: 'Maximum number of function evaluations has been exceeded.'\n",
      "          nfev: 401\n",
      "           nit: 222\n",
      "        status: 1\n",
      "       success: False\n",
      "             x: array([1.17714307e-05, 8.49512936e+00])\n",
      "24.203\n"
     ]
    }
   ],
   "source": [
    "init = datetime.datetime.now()\n",
    "print(csyopt.minimize(powell , (0, 1),  method = 'Nelder-Mead'))\n",
    "end = datetime.datetime.now()\n",
    "print((end - init).total_seconds() * 1000)"
   ]
  },
  {
   "cell_type": "code",
   "execution_count": 6,
   "metadata": {},
   "outputs": [
    {
     "name": "stdout",
     "output_type": "stream",
     "text": [
      " final_simplex: (array([[1.00000000e+06, 1.99996767e-06],\n",
      "       [1.00000000e+06, 2.00003010e-06],\n",
      "       [1.00000000e+06, 2.00015572e-06]]), array([2.00355540e-09, 1.20596332e-08, 2.55108727e-08]))\n",
      "           fun: 2.0035553999661334e-09\n",
      "       message: 'Optimization terminated successfully.'\n",
      "          nfev: 275\n",
      "           nit: 146\n",
      "        status: 0\n",
      "       success: True\n",
      "             x: array([1.00000000e+06, 1.99996767e-06])\n",
      "9.846\n"
     ]
    }
   ],
   "source": [
    "init = datetime.datetime.now()\n",
    "print(csyopt.minimize(brown , (1, 1),  method = 'Nelder-Mead'))\n",
    "end = datetime.datetime.now()\n",
    "print((end - init).total_seconds() * 1000)"
   ]
  },
  {
   "cell_type": "code",
   "execution_count": 7,
   "metadata": {},
   "outputs": [
    {
     "name": "stdout",
     "output_type": "stream",
     "text": [
      " final_simplex: (array([[3.00002489, 0.50000749],\n",
      "       [2.99993609, 0.49998427],\n",
      "       [3.00005157, 0.50000776]]), array([1.39263183e-10, 6.54120047e-10, 1.00978644e-09]))\n",
      "           fun: 1.3926318302583701e-10\n",
      "       message: 'Optimization terminated successfully.'\n",
      "          nfev: 107\n",
      "           nit: 56\n",
      "        status: 0\n",
      "       success: True\n",
      "             x: array([3.00002489, 0.50000749])\n",
      "6.288\n"
     ]
    }
   ],
   "source": [
    "init = datetime.datetime.now()\n",
    "print(csyopt.minimize(beale , (1, 1),  method = 'Nelder-Mead'))\n",
    "end = datetime.datetime.now()\n",
    "print((end - init).total_seconds() * 1000)"
   ]
  },
  {
   "cell_type": "code",
   "execution_count": 8,
   "metadata": {},
   "outputs": [
    {
     "name": "stdout",
     "output_type": "stream",
     "text": [
      "0.08\n"
     ]
    }
   ],
   "source": [
    "init = datetime.datetime.now()\n",
    "#print(csyopt.minimize(jennrich , (0.3, 0.4),  method = 'Nelder-Mead'))\n",
    "end = datetime.datetime.now()\n",
    "print((end - init).total_seconds() * 1000)"
   ]
  },
  {
   "cell_type": "code",
   "execution_count": 9,
   "metadata": {},
   "outputs": [
    {
     "name": "stdout",
     "output_type": "stream",
     "text": [
      " final_simplex: (array([[0.99992607, 0.0094207 , 0.01502868],\n",
      "       [0.99994899, 0.00944558, 0.01503589],\n",
      "       [1.00000846, 0.00942039, 0.01502881],\n",
      "       [1.00002386, 0.00945604, 0.01504055]]), array([0.00022607, 0.00022608, 0.00022628, 0.0002267 ]))\n",
      "           fun: 0.0002260676253182685\n",
      "       message: 'Optimization terminated successfully.'\n",
      "          nfev: 175\n",
      "           nit: 93\n",
      "        status: 0\n",
      "       success: True\n",
      "             x: array([0.99992607, 0.0094207 , 0.01502868])\n",
      "12.215\n"
     ]
    }
   ],
   "source": [
    "init = datetime.datetime.now()\n",
    "print(csyopt.minimize(helical_valley , (-1,0,0) ,  method = 'Nelder-Mead'))\n",
    "end = datetime.datetime.now()\n",
    "print((end - init).total_seconds() * 1000)"
   ]
  },
  {
   "cell_type": "code",
   "execution_count": 10,
   "metadata": {},
   "outputs": [
    {
     "name": "stdout",
     "output_type": "stream",
     "text": [
      " final_simplex: (array([[0.07678587, 0.7027171 , 2.76692131],\n",
      "       [0.07679516, 0.70281664, 2.76683057],\n",
      "       [0.07678598, 0.70265979, 2.76697948],\n",
      "       [0.07678682, 0.70272319, 2.76690274]]), array([0.01711162, 0.01711162, 0.01711162, 0.01711162]))\n",
      "           fun: 0.017111616738674788\n",
      "       message: 'Optimization terminated successfully.'\n",
      "          nfev: 197\n",
      "           nit: 111\n",
      "        status: 0\n",
      "       success: True\n",
      "             x: array([0.07678587, 0.7027171 , 2.76692131])\n",
      "23.964\n"
     ]
    }
   ],
   "source": [
    "init = datetime.datetime.now()\n",
    "print(csyopt.minimize(bard ,(1,1,1),  method = 'Nelder-Mead'))\n",
    "end = datetime.datetime.now()\n",
    "print((end - init).total_seconds() * 1000)"
   ]
  },
  {
   "cell_type": "code",
   "execution_count": 11,
   "metadata": {},
   "outputs": [
    {
     "name": "stdout",
     "output_type": "stream",
     "text": [
      " final_simplex: (array([[3.98960167e-01, 1.00000475e+00, 4.16647356e-05],\n",
      "       [3.98949373e-01, 9.99958348e-01, 3.94257138e-05],\n",
      "       [3.98954786e-01, 1.00006846e+00, 4.21779485e-05],\n",
      "       [3.98956660e-01, 9.99962581e-01, 4.24159444e-05]]), array([1.18891931e-08, 1.19798181e-08, 1.20928316e-08, 1.21464971e-08]))\n",
      "           fun: 1.1889193134595934e-08\n",
      "       message: 'Optimization terminated successfully.'\n",
      "          nfev: 62\n",
      "           nit: 31\n",
      "        status: 0\n",
      "       success: True\n",
      "             x: array([3.98960167e-01, 1.00000475e+00, 4.16647356e-05])\n",
      "14.149999999999999\n"
     ]
    }
   ],
   "source": [
    "init = datetime.datetime.now()\n",
    "print(csyopt.minimize(gaussian ,(0.4, 1, 0),  method = 'Nelder-Mead'))\n",
    "end = datetime.datetime.now()\n",
    "print((end - init).total_seconds() * 1000)"
   ]
  },
  {
   "cell_type": "code",
   "execution_count": 12,
   "metadata": {},
   "outputs": [
    {
     "name": "stdout",
     "output_type": "stream",
     "text": [
      " final_simplex: (array([[1.25761983e-02, 5.52693658e+03, 3.22593783e+02],\n",
      "       [1.26028282e-02, 5.52517302e+03, 3.22526461e+02],\n",
      "       [1.26309314e-02, 5.52374756e+03, 3.22484071e+02],\n",
      "       [1.26820886e-02, 5.52056133e+03, 3.22374428e+02]]), array([6409.11926448, 6424.91696529, 6482.24753313, 6544.75273709]))\n",
      "           fun: 6409.119264481873\n",
      "       message: 'Maximum number of function evaluations has been exceeded.'\n",
      "          nfev: 600\n",
      "           nit: 343\n",
      "        status: 1\n",
      "       success: False\n",
      "             x: array([1.25761983e-02, 5.52693658e+03, 3.22593783e+02])\n",
      "37.542\n"
     ]
    }
   ],
   "source": [
    "init = datetime.datetime.now()\n",
    "print(csyopt.minimize(meyer , (.02, 4000, 250),  method = 'Nelder-Mead'))\n",
    "end = datetime.datetime.now()\n",
    "print((end - init).total_seconds() * 1000)"
   ]
  },
  {
   "cell_type": "code",
   "execution_count": 13,
   "metadata": {},
   "outputs": [
    {
     "name": "stdout",
     "output_type": "stream",
     "text": [
      " final_simplex: (array([[ 0.0249534 , 12.22167143, -0.27875974],\n",
      "       [ 0.024953  , 12.22170072, -0.27876157],\n",
      "       [ 0.02495284, 12.22172558, -0.27876203],\n",
      "       [ 0.0249526 , 12.22176388, -0.27876328]]), array([3.44571004e-07, 3.44571010e-07, 3.44571013e-07, 3.44571015e-07]))\n",
      "           fun: 3.445710037605985e-07\n",
      "       message: 'Optimization terminated successfully.'\n",
      "          nfev: 344\n",
      "           nit: 196\n",
      "        status: 0\n",
      "       success: True\n",
      "             x: array([ 0.0249534 , 12.22167143, -0.27875974])\n",
      "11.658\n"
     ]
    }
   ],
   "source": [
    "init = datetime.datetime.now()\n",
    "print(csyopt.minimize(gulf ,(5, 2.5, 0.15),  method = 'Nelder-Mead'))\n",
    "end = datetime.datetime.now()\n",
    "print((end - init).total_seconds() * 1000)"
   ]
  },
  {
   "cell_type": "code",
   "execution_count": 14,
   "metadata": {},
   "outputs": [
    {
     "name": "stdout",
     "output_type": "stream",
     "text": [
      " final_simplex: (array([[1.23555847e-03, 1.61057591e+01, 1.46049540e+00],\n",
      "       [1.23554995e-03, 1.61058115e+01, 1.46049679e+00],\n",
      "       [1.23556773e-03, 1.61057002e+01, 1.46049532e+00],\n",
      "       [1.23554902e-03, 1.61058177e+01, 1.46049641e+00]]), array([0.00411, 0.00411, 0.00411, 0.00411]))\n",
      "           fun: 0.004109997815407901\n",
      "       message: 'Optimization terminated successfully.'\n",
      "          nfev: 246\n",
      "           nit: 131\n",
      "        status: 0\n",
      "       success: True\n",
      "             x: array([1.23555847e-03, 1.61057591e+01, 1.46049540e+00])\n",
      "9.612\n"
     ]
    }
   ],
   "source": [
    "init = datetime.datetime.now()\n",
    "print(csyopt.minimize(box3dimecional , (0, 10, 20) ,  method = 'Nelder-Mead'))\n",
    "end = datetime.datetime.now()\n",
    "print((end - init).total_seconds() * 1000)"
   ]
  },
  {
   "cell_type": "code",
   "execution_count": 15,
   "metadata": {},
   "outputs": [
    {
     "name": "stdout",
     "output_type": "stream",
     "text": [
      " final_simplex: (array([[ 0.00942089, -0.00094117,  0.01661581,  0.0166153 ],\n",
      "       [ 0.00943187, -0.00094258,  0.01661579,  0.01661425],\n",
      "       [ 0.00943412, -0.00094274,  0.01661578,  0.01661505],\n",
      "       [ 0.0094289 , -0.00094201,  0.01661581,  0.01661357],\n",
      "       [ 0.00932399, -0.00093171,  0.01661609,  0.01661445]]), array([1.39058605e-06, 1.39058761e-06, 1.39058936e-06, 1.39059280e-06,\n",
      "       1.39059903e-06]))\n",
      "           fun: 1.3905860499424258e-06\n",
      "       message: 'Optimization terminated successfully.'\n",
      "          nfev: 305\n",
      "           nit: 185\n",
      "        status: 0\n",
      "       success: True\n",
      "             x: array([ 0.00942089, -0.00094117,  0.01661581,  0.0166153 ])\n",
      "9.04\n"
     ]
    }
   ],
   "source": [
    "init = datetime.datetime.now()\n",
    "print(csyopt.minimize(powell_singular ,(3, -1, 0, 1),  method = 'Nelder-Mead'))\n",
    "end = datetime.datetime.now()\n",
    "print((end - init).total_seconds() * 1000)"
   ]
  },
  {
   "cell_type": "code",
   "execution_count": 16,
   "metadata": {},
   "outputs": [
    {
     "name": "stdout",
     "output_type": "stream",
     "text": [
      " final_simplex: (array([[ 0.99998467, -0.99999193,  0.99998385,  0.99996799],\n",
      "       [ 0.99999557, -0.99999835,  1.0000222 ,  1.00004426],\n",
      "       [ 1.0000293 , -1.00001559,  0.99999405,  0.99998759],\n",
      "       [ 1.00000345, -1.00000233,  1.00002238,  1.00004768],\n",
      "       [ 1.00000907, -1.0000026 ,  1.00000354,  1.00000839]]), array([5.70347377e-10, 6.43601243e-10, 1.27313714e-09, 1.42394320e-09,\n",
      "       1.74956645e-09]))\n",
      "           fun: 5.703473773569645e-10\n",
      "       message: 'Optimization terminated successfully.'\n",
      "          nfev: 438\n",
      "           nit: 255\n",
      "        status: 0\n",
      "       success: True\n",
      "             x: array([ 0.99998467, -0.99999193,  0.99998385,  0.99996799])\n",
      "16.539\n"
     ]
    }
   ],
   "source": [
    "init = datetime.datetime.now()\n",
    "print(csyopt.minimize(wood , (-3,-1,-3,-1),  method = 'Nelder-Mead'))\n",
    "end = datetime.datetime.now()\n",
    "print((end - init).total_seconds() * 1000)"
   ]
  },
  {
   "cell_type": "code",
   "execution_count": 17,
   "metadata": {},
   "outputs": [
    {
     "name": "stdout",
     "output_type": "stream",
     "text": [
      " final_simplex: (array([[0.19280828, 0.19129484, 0.1230799 , 0.13606312],\n",
      "       [0.19280425, 0.19128406, 0.12302842, 0.13606177],\n",
      "       [0.19280981, 0.19120381, 0.12302495, 0.13603415],\n",
      "       [0.19280384, 0.19124946, 0.1230306 , 0.13604671],\n",
      "       [0.19280023, 0.1913863 , 0.12304816, 0.13611169]]), array([0.00030751, 0.00030751, 0.00030751, 0.00030751, 0.00030751]))\n",
      "           fun: 0.00030750561104950664\n",
      "       message: 'Optimization terminated successfully.'\n",
      "          nfev: 260\n",
      "           nit: 154\n",
      "        status: 0\n",
      "       success: True\n",
      "             x: array([0.19280828, 0.19129484, 0.1230799 , 0.13606312])\n",
      "17.157\n"
     ]
    }
   ],
   "source": [
    "init = datetime.datetime.now()\n",
    "print(csyopt.minimize(kowalik , (0.25, 0.39, 0.415, 0.39),  method = 'Nelder-Mead'))\n",
    "end = datetime.datetime.now()\n",
    "print((end - init).total_seconds() * 1000)"
   ]
  },
  {
   "cell_type": "code",
   "execution_count": 19,
   "metadata": {},
   "outputs": [],
   "source": [
    "#modo sin tensor:\n",
    "class basic_nelder():\n",
    "    \n",
    "    p = 1\n",
    "    d = 2\n",
    "    r = 0.5\n",
    "    g = 0.5\n",
    "    \n",
    "    def __init__(self,x,f):\n",
    "        self.f = f\n",
    "        self.x = x\n",
    "        self.points = [self.evaluation(x)]\n",
    "        self.generate()\n",
    "        \n",
    "    def evaluation(self,x):\n",
    "        return np.array([x,self.f(x)])\n",
    "    \n",
    "    def generate(self):\n",
    "        x2 = self.evaluation(self.x + np.random.rand(self.x.shape[0]))\n",
    "        x3 = self.evaluation(self.x + np.random.rand(self.x.shape[0]))\n",
    "        self.points.append(x2)\n",
    "        self.points.append(x3)\n",
    "    \n",
    "    def sorting(self):\n",
    "        self.points = sorted(self.points, key=lambda x: x[-1])\n",
    "    \n",
    "    def create_centroide(self):\n",
    "        size = len(self.points) - 1\n",
    "        self.centroide =  np.sum(self.points[:-1], axis = 0) / size \n",
    "        \n",
    "    def create_xr(self):\n",
    "        self.xr = self.centroide + self.p * ( self.centroide - self.points[-1])\n",
    "        self.xr = self.evaluation(self.xr[0])\n",
    "        \n",
    "    def create_xe(self):\n",
    "        self.xe = (1 + self.p * self.d ) * self.centroide - (self.p* self.d*self.points[-1])\n",
    "        self.xe = self.evaluation(self.xe[0])\n",
    "        \n",
    "    def create_xce(self):\n",
    "        self.xce = (1 + self.p * self.r ) * self.centroide - (self.p* self.r *self.points[-1])\n",
    "        self.xce = self.evaluation(self.xce[0])\n",
    "        \n",
    "    def create_xci(self):\n",
    "        self.xci = (1 -  self.r ) * self.centroide + ( self.r *self.points[-1])\n",
    "        self.xci = self.evaluation(self.xci[0])\n",
    "        \n",
    "    def iteration(self):\n",
    "        self.sorting()\n",
    "        self.create_centroide()\n",
    "        self.create_xr()\n",
    "        if self.points[0][-1] <= self.xr[-1] and self.xr[-1] <  self.points[-2][-1]:\n",
    "            self.points.append(self.xr)\n",
    "            self.points = self.points[1:]\n",
    "            return\n",
    "        if  self.xr[-1] <= self.points[0][-1]:\n",
    "            self.create_xe()\n",
    "            if  self.xr[-1] <= self.xe[-1]:\n",
    "                self.points = self.points[:-1]\n",
    "                self.points.append(self.xr)\n",
    "            else:\n",
    "                self.points = self.points[:-1]\n",
    "                self.points.append(self.xe)\n",
    "            return\n",
    "        if   self.points[-2][-1] <= self.xr[-1] and  self.xr[-1] <= self.points[-1][-1]:\n",
    "            self.create_xce()\n",
    "            if  self.xce[-1] <= self.xr[-1]:\n",
    "                self.points = self.points[:-1] \n",
    "                self.points.append(self.xce)\n",
    "            else:\n",
    "                self.contract()\n",
    "            return\n",
    "        if   self.points[-1][-1] <= self.xr[-1] :\n",
    "            self.create_xci()\n",
    "            if  self.xci[-1] <= self.points[-1][-1]:\n",
    "                self.points = self.points[:-1]\n",
    "                self.points.append(self.xci)\n",
    "            else:\n",
    "                self.contract()\n",
    "    def contract(self):\n",
    "        newpoints = [self.points[0]]\n",
    "        for xi in self.points[1:]:\n",
    "            point = self.points[0][0] +self.d* (xi[0] - self.points[0][0])\n",
    "            newpoints.append( self.evaluation (point))\n",
    "        self.points = newpoints\n",
    "        \n",
    "    def solve(self, iterations):\n",
    "        for i in range(iterations):\n",
    "            self.iteration()\n",
    "        print(self.points)"
   ]
  },
  {
   "cell_type": "code",
   "execution_count": 20,
   "metadata": {},
   "outputs": [
    {
     "name": "stdout",
     "output_type": "stream",
     "text": [
      "[array([array([1., 1.]), 0.0], dtype=object), array([array([1., 1.]), 0.0], dtype=object), array([array([1., 1.]), 4.930380657631324e-32], dtype=object)]\n",
      "55.902\n"
     ]
    }
   ],
   "source": [
    "init = datetime.datetime.now()\n",
    "method = basic_nelder(np.array([-1.2, 1]) ,rosenbrock)\n",
    "method.solve(1000)\n",
    "end = datetime.datetime.now()\n",
    "print((end - init).total_seconds() * 1000)"
   ]
  },
  {
   "cell_type": "code",
   "execution_count": 21,
   "metadata": {},
   "outputs": [
    {
     "name": "stdout",
     "output_type": "stream",
     "text": [
      "[array([array([11.41277895, -0.89680526]), 48.98425367924001], dtype=object), array([array([11.41277895, -0.89680526]), 48.98425367924001], dtype=object), array([array([11.41277892, -0.89680526]), 48.98425367924001], dtype=object)]\n",
      "67.323\n"
     ]
    }
   ],
   "source": [
    "init = datetime.datetime.now() #rectificar \n",
    "method = basic_nelder(np.array([0.5 ,-2]) ,freudenstein)\n",
    "method.solve(1000)\n",
    "end = datetime.datetime.now()\n",
    "print((end - init).total_seconds() * 1000)"
   ]
  },
  {
   "cell_type": "code",
   "execution_count": 22,
   "metadata": {},
   "outputs": [
    {
     "name": "stdout",
     "output_type": "stream",
     "text": [
      "[array([array([1.09815933e-05, 9.10614674e+00]), 0.0], dtype=object), array([array([1.09815933e-05, 9.10614674e+00]), 0.0], dtype=object), array([array([1.09815933e-05, 9.10614674e+00]), 0.0], dtype=object)]\n",
      "47.797\n"
     ]
    }
   ],
   "source": [
    "init = datetime.datetime.now()\n",
    "method = basic_nelder(np.array([0, 1]) ,powell)\n",
    "method.solve(1000)\n",
    "end = datetime.datetime.now()\n",
    "print((end - init).total_seconds() * 1000)"
   ]
  },
  {
   "cell_type": "code",
   "execution_count": 23,
   "metadata": {},
   "outputs": [
    {
     "name": "stdout",
     "output_type": "stream",
     "text": [
      "[array([array([1.e+06, 2.e-06]), 3.155443620886917e-30], dtype=object), array([array([1.e+06, 2.e-06]), 4.930380657635808e-30], dtype=object), array([array([1.e+06, 2.e-06]), 1.774937036748891e-30], dtype=object)]\n",
      "44.13\n"
     ]
    }
   ],
   "source": [
    "init = datetime.datetime.now()\n",
    "method = basic_nelder(np.array([1, 1]) ,brown)\n",
    "method.solve(1000)\n",
    "end = datetime.datetime.now()\n",
    "print((end - init).total_seconds() * 1000)"
   ]
  },
  {
   "cell_type": "code",
   "execution_count": 24,
   "metadata": {},
   "outputs": [
    {
     "name": "stdout",
     "output_type": "stream",
     "text": [
      "[array([array([3. , 0.5]), 1.7419034863411467e-28], dtype=object), array([array([3. , 0.5]), 1.7852908361283023e-28], dtype=object), array([array([3. , 0.5]), 1.79909590196967e-28], dtype=object)]\n",
      "56.228\n"
     ]
    }
   ],
   "source": [
    "init = datetime.datetime.now()\n",
    "method = basic_nelder(np.array( [1, 1]) ,beale )\n",
    "method.solve(1000)\n",
    "end = datetime.datetime.now()\n",
    "print((end - init).total_seconds() * 1000)"
   ]
  },
  {
   "cell_type": "code",
   "execution_count": 25,
   "metadata": {},
   "outputs": [
    {
     "name": "stdout",
     "output_type": "stream",
     "text": [
      "0.33\n"
     ]
    }
   ],
   "source": [
    "init = datetime.datetime.now()\n",
    "method = basic_nelder(np.array([0.3, 0.4]) ,jennrich )\n",
    "#method.solve(100)\n",
    "end = datetime.datetime.now()\n",
    "print((end - init).total_seconds() * 1000)"
   ]
  },
  {
   "cell_type": "code",
   "execution_count": 26,
   "metadata": {},
   "outputs": [
    {
     "name": "stdout",
     "output_type": "stream",
     "text": [
      "[array([array([0.29267967, 0.95074572, 2.01515133]), 4.072693811586509],\n",
      "      dtype=object), array([array([0.29267967, 0.95074572, 2.01515133]), 4.072693811586509],\n",
      "      dtype=object), array([array([0.29267967, 0.95074572, 2.01515133]), 4.072693811586509],\n",
      "      dtype=object)]\n",
      "65.446\n"
     ]
    }
   ],
   "source": [
    "init = datetime.datetime.now()\n",
    "method = basic_nelder(np.array([-1,0,0]) ,helical_valley  )\n",
    "method.solve(1000)\n",
    "end = datetime.datetime.now()\n",
    "print((end - init).total_seconds() * 1000)"
   ]
  },
  {
   "cell_type": "code",
   "execution_count": 27,
   "metadata": {},
   "outputs": [
    {
     "name": "stdout",
     "output_type": "stream",
     "text": [
      "[array([array([0.11708261, 2.31814309, 1.2047496 ]), 0.029097079345384257],\n",
      "      dtype=object), array([array([0.11708261, 2.31814309, 1.2047496 ]), 0.02909707934538426],\n",
      "      dtype=object), array([array([0.11708261, 2.31814309, 1.2047496 ]), 0.02909707934538428],\n",
      "      dtype=object)]\n",
      "118.617\n"
     ]
    }
   ],
   "source": [
    "init = datetime.datetime.now()\n",
    "method = basic_nelder(np.array([1,1,1]) ,bard )\n",
    "method.solve(1000)\n",
    "end = datetime.datetime.now()\n",
    "print((end - init).total_seconds() * 1000)"
   ]
  },
  {
   "cell_type": "code",
   "execution_count": 28,
   "metadata": {},
   "outputs": [
    {
     "name": "stdout",
     "output_type": "stream",
     "text": [
      "[array([array([ 3.98910535e-01,  9.99029143e-01, -6.51005332e-04]),\n",
      "       2.1002654861546923e-07], dtype=object), array([array([ 3.98910535e-01,  9.99029143e-01, -6.51005416e-04]),\n",
      "       2.1002654861554001e-07], dtype=object), array([array([ 3.98910535e-01,  9.99029143e-01, -6.51005378e-04]),\n",
      "       2.1002654861533892e-07], dtype=object)]\n",
      "110.796\n"
     ]
    }
   ],
   "source": [
    "init = datetime.datetime.now()\n",
    "method = basic_nelder(np.array([0.4, 1, 0]) ,gaussian)\n",
    "method.solve(1000)\n",
    "end = datetime.datetime.now()\n",
    "print((end - init).total_seconds() * 1000)"
   ]
  },
  {
   "cell_type": "code",
   "execution_count": 29,
   "metadata": {},
   "outputs": [
    {
     "name": "stdout",
     "output_type": "stream",
     "text": [
      "[array([array([9.63458566e-02, 4.03831407e+03, 2.65477332e+02]),\n",
      "       106680.43848290648], dtype=object), array([array([9.63458565e-02, 4.03831407e+03, 2.65477332e+02]),\n",
      "       106680.43848291418], dtype=object), array([array([9.63458573e-02, 4.03831407e+03, 2.65477332e+02]),\n",
      "       106680.43848291745], dtype=object)]\n",
      "93.378\n"
     ]
    }
   ],
   "source": [
    "init = datetime.datetime.now()\n",
    "method = basic_nelder(np.array([.02, 4000, 250]) ,meyer )\n",
    "method.solve(1000)\n",
    "end = datetime.datetime.now()\n",
    "print((end - init).total_seconds() * 1000)"
   ]
  },
  {
   "cell_type": "code",
   "execution_count": 30,
   "metadata": {},
   "outputs": [
    {
     "name": "stdout",
     "output_type": "stream",
     "text": [
      "[array([array([ 0.02685486,  9.39061819, -0.27876165]),\n",
      "       3.445709892965461e-07], dtype=object), array([array([ 0.02685486,  9.39061818, -0.27876165]),\n",
      "       3.445709892965638e-07], dtype=object), array([array([ 0.02685486,  9.39061819, -0.27876164]),\n",
      "       3.4457098929654873e-07], dtype=object)]\n",
      "76.429\n"
     ]
    }
   ],
   "source": [
    "init = datetime.datetime.now()\n",
    "method = basic_nelder(np.array([5, 2.5, 0.15]) ,gulf)\n",
    "method.solve(1000)\n",
    "end = datetime.datetime.now()\n",
    "print((end - init).total_seconds() * 1000)"
   ]
  },
  {
   "cell_type": "code",
   "execution_count": 31,
   "metadata": {},
   "outputs": [
    {
     "name": "stdout",
     "output_type": "stream",
     "text": [
      "[array([array([-1.21657826e+01, -1.21657826e+01, -2.07590860e-60]),\n",
      "       7.144923572361826e-120], dtype=object), array([array([-1.21657826e+01, -1.21657826e+01, -3.61320204e-60]),\n",
      "       2.1645400406602594e-119], dtype=object), array([array([-1.21657826e+01, -1.21657826e+01,  2.71501420e-60]),\n",
      "       1.2221523317596894e-119], dtype=object)]\n",
      "72.869\n"
     ]
    }
   ],
   "source": [
    "init = datetime.datetime.now()\n",
    "method = basic_nelder(np.array([0, 10, 20]) ,box3dimecional)\n",
    "method.solve(1000)\n",
    "end = datetime.datetime.now()\n",
    "print((end - init).total_seconds() * 1000)"
   ]
  },
  {
   "cell_type": "code",
   "execution_count": 32,
   "metadata": {},
   "outputs": [
    {
     "name": "stdout",
     "output_type": "stream",
     "text": [
      "[array([array([ 2.92054443, -0.9498941 ,  0.54195663,  1.97713723]),\n",
      "       78.60490012869843], dtype=object), array([array([ 2.92054444, -0.9498941 ,  0.54195664,  1.97713724]),\n",
      "       78.60490012869843], dtype=object), array([array([ 2.92054443, -0.9498941 ,  0.54195664,  1.97713724]),\n",
      "       78.60490012869843], dtype=object)]\n",
      "47.556000000000004\n"
     ]
    }
   ],
   "source": [
    "init = datetime.datetime.now()\n",
    "method = basic_nelder(np.array([3, -1, 0, 1]) ,powell_singular)\n",
    "method.solve(1000)\n",
    "end = datetime.datetime.now()\n",
    "print((end - init).total_seconds() * 1000)"
   ]
  },
  {
   "cell_type": "code",
   "execution_count": 33,
   "metadata": {},
   "outputs": [
    {
     "name": "stdout",
     "output_type": "stream",
     "text": [
      "[array([array([-2.56344922,  0.72551031, -1.47759726,  1.12003123]),\n",
      "       1075.2794059658847], dtype=object), array([array([-2.5634492 ,  0.72551034, -1.47759722,  1.12003119]),\n",
      "       1075.2794059658847], dtype=object), array([array([-2.56344921,  0.72551033, -1.47759724,  1.12003124]),\n",
      "       1075.2794059658847], dtype=object)]\n",
      "47.562\n"
     ]
    }
   ],
   "source": [
    "init = datetime.datetime.now()\n",
    "method = basic_nelder(np.array([-3,-1,-3,-1]) ,wood)\n",
    "method.solve(1000)\n",
    "end = datetime.datetime.now()\n",
    "print((end - init).total_seconds() * 1000)"
   ]
  },
  {
   "cell_type": "code",
   "execution_count": 34,
   "metadata": {},
   "outputs": [
    {
     "name": "stdout",
     "output_type": "stream",
     "text": [
      "[array([array([0.20050166, 0.21702766, 0.22998942, 0.13523204]),\n",
      "       0.00038630757171783547], dtype=object), array([array([0.20050166, 0.21702766, 0.22998942, 0.13523204]),\n",
      "       0.00038630757171783574], dtype=object), array([array([0.20050166, 0.21702766, 0.22998942, 0.13523204]),\n",
      "       0.0003863075717178351], dtype=object)]\n",
      "93.89200000000001\n"
     ]
    }
   ],
   "source": [
    "init = datetime.datetime.now()\n",
    "method = basic_nelder(np.array([0.25, 0.39, 0.415, 0.39]) ,kowalik )\n",
    "method.solve(1000)\n",
    "end = datetime.datetime.now()\n",
    "print((end - init).total_seconds() * 1000)"
   ]
  },
  {
   "cell_type": "code",
   "execution_count": 35,
   "metadata": {},
   "outputs": [
    {
     "name": "stdout",
     "output_type": "stream",
     "text": [
      "[0 0]\n"
     ]
    }
   ],
   "source": [
    "x = tf.Variable([-1.2, 1])\n",
    "f = tf_rosenbrock(x)\n",
    "\n",
    "\n",
    "with tf.Session() as sess:\n",
    "    init_op = tf.global_variables_initializer()\n",
    "    sess.run(init_op);\n",
    "    #la funcion solo returna los nodos del grafo que deben ser ejecutados, a la final yo los encadeno en evaluar el assign del \n",
    "    #valor en el que deben terminar las variables \n",
    "    x0 = [1,1]\n",
    "    x1 = tf.convert_to_tensor([[1,1],[-1,1],[1,3],[1,3]])\n",
    "    x2 = tf.convert_to_tensor([[3,1],[1,1]])\n",
    "    evaluatex0 = tf_rosenbrock(x0)\n",
    "    evaluatex1 = tf_rosenbrock(x1)\n",
    "    evaluatex2 = tf_rosenbrock(x2)\n",
    "    #stuff = tf.map_fn(lambda x: 1 >= x[-1]  , x2)\n",
    "    \n",
    "    #print(stuff.eval())\n",
    "    #compare = tf.reduce_min([evaluatex0,evaluatex1])\n",
    "    print(evaluatex1.eval())\n",
    "    #print(evaluatex1.eval())\n",
    "    #getmin = tf.equal(x1,x2)\n",
    "    #print(getmin.eval())\n",
    "    #print(tf.math.reduce_any(getmin).eval())\n",
    "    #c = tf.constant([[8,2,9,4], [4, 3, 2, 1], [5,6,7,2]])\n",
    "    #print(tf.segment_max(c, tf.constant([0,0,1])).eval())\n",
    "    #print(compare.eval())\n",
    "    #print(sess.run(evaluatex1))\n",
    "    #print(sess.run(compare))"
   ]
  },
  {
   "cell_type": "code",
   "execution_count": 65,
   "metadata": {},
   "outputs": [],
   "source": [
    "@tf.function\n",
    "def tf_rosenbrock(x):\n",
    "    return tf.convert_to_tensor([rosenbrock(x)])\n",
    "\n",
    "@tf.function\n",
    "def tf_freudenstein(x):\n",
    "    return freudenstein(x)\n",
    "\n",
    "@tf.function\n",
    "def tf_powell(x):\n",
    "    return powell(x)\n",
    "\n",
    "@tf.function\n",
    "def tf_brown(x):\n",
    "    return brown(x)\n",
    "\n",
    "@tf.function\n",
    "def tf_beale(x):\n",
    "    return beale(x)\n",
    "\n",
    "@tf.function\n",
    "def tf_jennrich(x):\n",
    "    return jennrich(x)\n",
    "\n",
    "@tf.function\n",
    "def tf_helical_valley(x):\n",
    "    return helical_valley(x)\n",
    "\n",
    "@tf.function\n",
    "def tf_bard(x):\n",
    "    return bard(x)\n",
    "\n",
    "@tf.function\n",
    "def tf_gaussian(x):\n",
    "    return gaussian(x)\n",
    "\n",
    "@tf.function\n",
    "def tf_meyer(x):\n",
    "    return meyer(x)\n",
    "\n",
    "@tf.function\n",
    "def tf_gulf(x):\n",
    "    return gulf(x)\n",
    "\n",
    "@tf.function\n",
    "def tf_box3dimecional(x):\n",
    "    return box3dimecional(x)\n",
    "\n",
    "@tf.function\n",
    "def tf_powell_singular(x):\n",
    "    return powell_singular(x)\n",
    "\n",
    "@tf.function\n",
    "def tf_wood(x):\n",
    "    return wood(x)\n",
    "\n",
    "@tf.function\n",
    "def tf_kowalik(x):\n",
    "    return kowalik(x)\n"
   ]
  },
  {
   "cell_type": "code",
   "execution_count": 80,
   "metadata": {},
   "outputs": [],
   "source": [
    "# nelder-mead con tensores\n",
    "\n",
    "class Nelder_Mead(list):\n",
    "\n",
    "    p = 1\n",
    "    d = 2\n",
    "    r = 0.5\n",
    "    g = 0.5\n",
    "    \n",
    "    def __init__(self,x,f):\n",
    "        self.f = f\n",
    "        self.x1 = x\n",
    "        self.x2 = x + np.random.rand(x.shape[0]) \n",
    "        self.x3 = x + np.random.rand(x.shape[0])\n",
    "        evalx1 = self.evaluation(self.x1)\n",
    "        evalx2 = self.evaluation(self.x2)\n",
    "        evalx3 = self.evaluation(self.x2)\n",
    "        point1 = tf.concat([evalx1,  self.x1 ], 0)\n",
    "        point2 = tf.concat([evalx2,  self.x2 ], 0)\n",
    "        point3 = tf.concat([evalx3,  self.x3 ], 0)\n",
    "        self.points = tf.stack([point1,point2, point3],0)\n",
    "        \n",
    "    def evaluation(self,x):\n",
    "        return self.f(x)\n",
    "        \n",
    "    def sorting(self):\n",
    "        self.points = tf.transpose(self.points)\n",
    "        print(self.points)\n",
    "        order_index = tf.nn.top_k(self.points, k=self.x1.shape[0] + 1,sorted=False).indices[0]\n",
    "        print(order_index)\n",
    "        self.points = tf.gather(self.points,order_index, axis=1)\n",
    "        print(self.points)\n",
    "        self.points = tf.transpose(self.points)\n",
    "        print(self.points)\n",
    "    \n",
    "    def create_centroide(self):\n",
    "        size = len(self.points) - 1\n",
    "        self.centroide =  tf.sum_n(self.points[:-1], axis = 0) / size \n",
    "        \n",
    "    def create_xr(self):\n",
    "        self.xr = self.centroide + self.p * ( self.centroide - self.points[-1])\n",
    "        self.xr = self.evaluation(self.xr[0])\n",
    "        \n",
    "    def create_xe(self):\n",
    "        self.xe = (1 + self.p * self.d ) * self.centroide - (self.p* self.d*self.points[-1])\n",
    "        self.xe = self.evaluation(self.xe[0])\n",
    "        \n",
    "    def create_xce(self):\n",
    "        self.xce = (1 + self.p * self.r ) * self.centroide - (self.p* self.r *self.points[-1])\n",
    "        self.xce = self.evaluation(self.xce[0])\n",
    "        \n",
    "    def create_xci(self):\n",
    "        self.xci = (1 -  self.r ) * self.centroide + ( self.r *self.points[-1])\n",
    "        self.xci = self.evaluation(self.xci[0])\n",
    "        \n",
    "    def iteration(self):\n",
    "        self.sorting()\n",
    "        self.create_centroide()\n",
    "        self.create_xr()\n",
    "        if self.points[0][-1] <= self.xr[-1] and self.xr[-1] <  self.points[-2][-1]:\n",
    "            self.points.append(self.xr)\n",
    "            self.points = self.points[1:]\n",
    "            return\n",
    "        if  self.xr[-1] <= self.points[0][-1]:\n",
    "            self.create_xe()\n",
    "            if  self.xr[-1] <= self.xe[-1]:\n",
    "                self.points = self.points[:-1]\n",
    "                self.points.append(self.xr)\n",
    "            else:\n",
    "                self.points = self.points[:-1]\n",
    "                self.points.append(self.xe)\n",
    "            return\n",
    "        if   self.points[-2][-1] <= self.xr[-1] and  self.xr[-1] <= self.points[-1][-1]:\n",
    "            self.create_xce()\n",
    "            if  self.xce[-1] <= self.xr[-1]:\n",
    "                self.points = self.points[:-1] \n",
    "                self.points.append(self.xce)\n",
    "            else:\n",
    "                self.contract()\n",
    "            return\n",
    "        if   self.points[-1][-1] <= self.xr[-1] :\n",
    "            self.create_xci()\n",
    "            if  self.xci[-1] <= self.points[-1][-1]:\n",
    "                self.points = self.points[:-1]\n",
    "                self.points.append(self.xci)\n",
    "            else:\n",
    "                self.contract()\n",
    "                \n",
    "    def contract(self):\n",
    "        newpoints = [self.points[0]]\n",
    "        for xi in self.points[1:]:\n",
    "            point = self.points[0][0] +self.d* (xi[0] - self.points[0][0])\n",
    "            newpoints.append( self.evaluation (point))\n",
    "        self.points = newpoints\n",
    "        \n",
    "    def solve(self, iterations):\n",
    "        for i in range(iterations):\n",
    "            self.iteration()\n",
    "        print(self.points)\n",
    "    "
   ]
  },
  {
   "cell_type": "code",
   "execution_count": 87,
   "metadata": {},
   "outputs": [
    {
     "name": "stdout",
     "output_type": "stream",
     "text": [
      "[[488.84       -1.2         1.       ]\n",
      " [689.28735    -1.1602536   1.2067609]\n",
      " [689.28735    -0.9481274   1.591399 ]]\n",
      "Tensor(\"transpose_8:0\", shape=(3, 3), dtype=float32)\n",
      "Tensor(\"strided_slice_3:0\", shape=(3,), dtype=int32)\n",
      "Tensor(\"GatherV2_3:0\", shape=(3, 3), dtype=float32)\n",
      "Tensor(\"transpose_9:0\", shape=(3, 3), dtype=float32)\n",
      "[[689.28735    -1.1602536   1.2067609]\n",
      " [689.28735    -0.9481274   1.591399 ]\n",
      " [488.84       -1.2         1.       ]]\n",
      "[<tf.Tensor 'Const_106:0' shape=(2,) dtype=float32>, <tf.Tensor 'PartitionedCall_142:0' shape=(1,) dtype=float32>]\n",
      "[array([-1.2,  1. ], dtype=float32), array([488.84], dtype=float32)]\n",
      "[ -1.2    1.   488.84]\n",
      "[[ -1.2    1.   488.84]\n",
      " [ -1.2    1.   488.84]]\n"
     ]
    }
   ],
   "source": [
    "\n",
    "\n",
    "\n",
    "with tf.Session() as sess:\n",
    "    init_op = tf.global_variables_initializer()\n",
    "    stuff = Nelder_Mead( tf.constant([-1.2, 1], dtype=tf.float32) ,tf_rosenbrock)\n",
    "    print(sess.run(stuff.points)) \n",
    "    stuff.sorting()\n",
    "    print(sess.run(stuff.points)) \n",
    "    amarillo = [tf.constant([-1.2, 1]), tf_rosenbrock(tf.constant([-1.2, 1]))]\n",
    "    print(amarillo)\n",
    "    print(sess.run(amarillo))\n",
    "    azulito = tf.concat(amarillo,0)\n",
    "    print(sess.run(azulito))\n",
    "    \n",
    "    rojito = tf.stack([azulito,azulito],0)\n",
    "    print(sess.run(rojito))\n",
    "    "
   ]
  },
  {
   "cell_type": "code",
   "execution_count": null,
   "metadata": {},
   "outputs": [],
   "source": [
    "centroide([[1,2],[3,4]])"
   ]
  },
  {
   "cell_type": "code",
   "execution_count": null,
   "metadata": {},
   "outputs": [],
   "source": []
  },
  {
   "cell_type": "code",
   "execution_count": null,
   "metadata": {},
   "outputs": [],
   "source": [
    "q = [tf.convert_to_tensor([13,1,20]), tf.convert_to_tensor([2,10,10]),tf.convert_to_tensor([3,2,30])]\n",
    "t =tf.argsort(q)\n",
    "with tf.Session() as sess:\n",
    "    print(sess.run(t))\n",
    "    print(sess.run(b))\n",
    "print(d)"
   ]
  },
  {
   "cell_type": "code",
   "execution_count": null,
   "metadata": {},
   "outputs": [],
   "source": [
    "sorted(array, key=lambda x: x[-1])"
   ]
  },
  {
   "cell_type": "code",
   "execution_count": null,
   "metadata": {},
   "outputs": [],
   "source": [
    "for i in rep(1,1000):\n",
    "    i"
   ]
  },
  {
   "cell_type": "code",
   "execution_count": null,
   "metadata": {},
   "outputs": [],
   "source": [
    "a = tf.constant([[62,10,26,2], [1,1,1,10], [1,100,1,26], [1,1,1,2], [1,1,1,12], [1,1,1,62]])\n",
    "a tf.transpose \n",
    "c = tf.nn.top_k(a, k=4,sorted=False).indices[0]\n",
    "b = tf.gather(a,c, axis=1)\n",
    "with tf.Session() as sess:\n",
    "    print(sess.run(a))\n",
    "    print(sess.run(c))\n",
    "    print(sess.run(b))\n"
   ]
  },
  {
   "cell_type": "code",
   "execution_count": null,
   "metadata": {},
   "outputs": [],
   "source": []
  },
  {
   "cell_type": "code",
   "execution_count": null,
   "metadata": {},
   "outputs": [],
   "source": []
  },
  {
   "cell_type": "code",
   "execution_count": null,
   "metadata": {},
   "outputs": [],
   "source": []
  },
  {
   "cell_type": "code",
   "execution_count": null,
   "metadata": {},
   "outputs": [],
   "source": []
  },
  {
   "cell_type": "code",
   "execution_count": null,
   "metadata": {},
   "outputs": [],
   "source": []
  },
  {
   "cell_type": "code",
   "execution_count": null,
   "metadata": {},
   "outputs": [],
   "source": []
  },
  {
   "cell_type": "code",
   "execution_count": null,
   "metadata": {},
   "outputs": [],
   "source": []
  },
  {
   "cell_type": "code",
   "execution_count": null,
   "metadata": {},
   "outputs": [],
   "source": []
  }
 ],
 "metadata": {
  "kernelspec": {
   "display_name": "Python 3",
   "language": "python",
   "name": "python3"
  },
  "language_info": {
   "codemirror_mode": {
    "name": "ipython",
    "version": 3
   },
   "file_extension": ".py",
   "mimetype": "text/x-python",
   "name": "python",
   "nbconvert_exporter": "python",
   "pygments_lexer": "ipython3",
   "version": "3.7.3"
  }
 },
 "nbformat": 4,
 "nbformat_minor": 2
}
